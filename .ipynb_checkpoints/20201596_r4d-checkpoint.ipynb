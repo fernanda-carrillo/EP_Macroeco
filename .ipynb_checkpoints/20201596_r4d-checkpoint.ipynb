{
 "cells": [
  {
   "cell_type": "markdown",
   "id": "9a97434a",
   "metadata": {},
   "source": [
    "# 4. Modelo IS LM"
   ]
  },
  {
   "cell_type": "code",
   "execution_count": null,
   "id": "84c161c4",
   "metadata": {},
   "outputs": [],
   "source": [
    "# María Fernanda Carrillo (20201596)"
   ]
  },
  {
   "cell_type": "markdown",
   "id": "6a7acd14",
   "metadata": {},
   "source": [
    "## Parte I: Reporte"
   ]
  },
  {
   "cell_type": "markdown",
   "id": "7f995baf",
   "metadata": {},
   "source": [
    "La pregunta de investigación que el autor se realiza es el análisis de la política monetaria aplicada en el año 2008-2009 para hacer frente a las consecuencias que había dejado la crisis internacional en la economía estadounidense; la cual curiosamente tenía componentes no convencionales, que expandían el modelo tradicional de demanda y oferta agregada. A cargo del Sistema de Reserva Federal, es que se menciona que se toman medidas poco habituales dentro del modelo de IS-LM, pues lo que efectuaron fue una administración de una tasa interés de corto plazo, así como la implementación de una participación directa en el mercado de bonos de largo plazo a los mercados existentes. \n",
    "\n",
    "Una de las debilidades de este modelo que el autor plantea para el análisis de este modelo es que si bien ha resultado efectivo en este caso es que para demostrar aún más la efectividad de estas decisiones y del modelo keynesiano que se ha aplicado para poder hacer frente a las crisis sería adecuado el extrapolarlo a otros ejemplos. Más aún para poder afirmar con mucha más base el hecho de que en efecto, los modelos viejos aún tienen prevalencia por sobre los nuevos incluso. \n",
    "No obstante, tiene muchísimas fortalezas, en tanto presta atención a muchas variables que antaño no eran consideradas, así enriqueciendo a los modelos antiguos y haciéndolos mucho más útiles y realistas al momento de analizar fenómenos actuales. Por ejemplo, presta atención a la expectativa que tiene la población y, cuando las políticas económicas son anticipadas es que pierden efectividad. \n",
    "\n",
    "Asimismo, demuestra en el análisis que, como se mencionó, el modelo keynesiano aún está vigente (lo revaloriza), sin obviar las acotaciones y variables que el autor agrega, es que contribuye al conocimiento económico en tanto demuestra que aún son utilizables. Y que, a comparación de teorizaciones contemporáneas es que aun puede prevalecer lo antiguo, que en ocasiones la intervención estatal puede ser la solución a graves declives económicos y que medidas puntuales significan la reactivación de una economía que ha pasado por lo peor.  Pues la intervención en los mercados de deuda de largo plazo, había teorizado años atrás, es una necesidad cuando la economía ingresa a una situación de una tasa de interés tan baja que se prefiere el efectivo a la adquisición de deuda con baja rentabilidad, lo que llamó una ‘trampa de liquidez’. Aún así quedan cosas que mejorar en estos antiguos modelos, a los cuales se les pueden acotar algunos preceptos o modificar levemente: como la distinción entre la tasa de interés de corto y largo plazo, pues inicialmente solo se concebía una sola tasa. \n",
    "\n",
    "Y, el efecto que tienen estas es sumamente diferentes entre sí. Pues, por ejemplo, es que a la compra de bonos de largo plazo es que solo reduce la tasa de interés de largo plazo, mientras que aún se tiene incertidumbre sobre el corto plazo.  No obstante, prevalece la idea de que no importa el tiempo, es que aún Keynes y sus postulados son vigentes al día de hoy.  \n",
    "\n",
    "Del mismo modo es que la idea de la importancia y prevalencia que el modelo keynesiano tiene aún actualmente es avalado por el autor Torrero, en el artículo ¿Tenemos algo que aprender de Keynes ahora? En el cual recalca la teoría keynesiana, y cuan relevante es hasta el día de hoy, fundamentalmente mirándolo por el lado de la incertidumbre que existe y la necesidad que existe en cuanto las instituciones han de adecuarse a las circunstancias del mercado, tal y como se presenta en el texto de Mendoza. \n",
    "\n",
    "Fuente: https://ebuah.uah.es/dspace/bitstream/handle/10017/27557/tenemos_torrero_IAESDT_2016_N07.pdf?sequence=1&isAllowed=y"
   ]
  },
  {
   "cell_type": "code",
   "execution_count": 2,
   "id": "37b8f9d7",
   "metadata": {},
   "outputs": [],
   "source": [
    "import ipywidgets as widgets\n",
    "import matplotlib.pyplot as plt\n",
    "import numpy as np\n",
    "import sympy as sy\n",
    "from sympy import *\n",
    "import pandas as pd\n",
    "#from causalgraphicalmodels import CausalGraphicalModel"
   ]
  },
  {
   "cell_type": "markdown",
   "id": "f53c7ad6",
   "metadata": {},
   "source": [
    "## Parte II: Código"
   ]
  },
  {
   "cell_type": "markdown",
   "id": "64a66168",
   "metadata": {},
   "source": [
    "Trabajo conjunto con Angela Rodriguez"
   ]
  },
  {
   "cell_type": "markdown",
   "id": "68a810de",
   "metadata": {},
   "source": [
    "### A partir del siguiente sistema de ecuaciones que representan el modelo IS-LM"
   ]
  },
  {
   "cell_type": "markdown",
   "id": "412e7b9a",
   "metadata": {},
   "source": [
    "#### Ecuaciones de Ingreso (Ye) y la tasa de interés (re) de equilibrio"
   ]
  },
  {
   "cell_type": "markdown",
   "id": "e1f83bdd",
   "metadata": {},
   "source": [
    "La ecuación de la Curva IS es: \n",
    "\n",
    "$$ r = \\frac{1}{h}(C_0 + G_0 + I_0 + X_0) - \\frac{1-(b-m(1-t)}{h}(Y)$$"
   ]
  },
  {
   "cell_type": "markdown",
   "id": "09502637",
   "metadata": {},
   "source": [
    "De manera más simplifica sería:\n",
    "\n",
    "$$r = \\frac{B_0}{h} - \\frac{B_1}{h}(Y)$$\n",
    "\n",
    "- Donde $ B_0 = C_o + I_o + G_o + X_o $ y $ B_1 = 1 - (b - m)(1 - t) $"
   ]
  },
  {
   "cell_type": "markdown",
   "id": "db5b0e3b",
   "metadata": {},
   "source": [
    "La ecuación de la Curva LM es:\n",
    "\n",
    "$$ r = - \\frac{1}{j}\\frac{M^s_0}{P_0} + \\frac{k}{j}Y $$ "
   ]
  },
  {
   "cell_type": "markdown",
   "id": "9806deee",
   "metadata": {},
   "source": [
    "Al igualar ambas Curvas logramos obtener el nivel de ingresos en equilibrio (Ye) y la tasa de interés de equilibrio (re). Se crea así el modelo IS-LM:\n",
    "\n",
    "$$ r = \\frac{B_0}{h} - \\frac{B_1}{h}(Y)= - \\frac{1}{j}\\frac{M^s_0}{Pj} + \\frac{k}{j}Y $$"
   ]
  },
  {
   "cell_type": "markdown",
   "id": "b67871b4",
   "metadata": {},
   "source": [
    "- Ingreso de equilibrio: \n",
    "\n",
    "$$ Y^e = \\frac{jB_0}{kh + jB_1} + (\\frac{h}{kh + jB_1})\\frac{Ms_0}{P_0} $$"
   ]
  },
  {
   "cell_type": "markdown",
   "id": "0ce65b7b",
   "metadata": {},
   "source": [
    "- Tasa de interés de equilibrio:\n",
    "\n",
    "$$ r^e = \\frac{kB_0}{kh + jB_1} + (\\frac{B_1}{kh + jB_1})\\frac{Ms_0}{P_0} $$"
   ]
  },
  {
   "cell_type": "markdown",
   "id": "5e1322b4",
   "metadata": {},
   "source": [
    "#### Grafico del equilibrio simultáneo en los mercados de bienes y de dinero"
   ]
  },
  {
   "cell_type": "code",
   "execution_count": 3,
   "id": "d8851eaf",
   "metadata": {},
   "outputs": [],
   "source": [
    "#--------------------------------------------------\n",
    "    # Curva IS\n",
    "\n",
    "# Parámetros\n",
    "\n",
    "Y_size = 100 \n",
    "\n",
    "Co = 35\n",
    "Io = 40\n",
    "Go = 50\n",
    "Xo = 2\n",
    "h = 0.8\n",
    "b = 0.5\n",
    "m = 0.4\n",
    "t = 0.8\n",
    "\n",
    "Y = np.arange(Y_size)\n",
    "\n",
    "\n",
    "# Ecuación \n",
    "def r_IS(b, m, t, Co, Io, Go, Xo, h, Y):\n",
    "    r_IS = (Co + Io + Go + Xo)/h - ( ( 1-(b-m)*(1-t) ) / h)*Y  \n",
    "    return r_IS\n",
    "\n",
    "r_is = r_IS(b, m, t, Co, Io, Go, Xo, h, Y)\n",
    "\n",
    "\n",
    "#--------------------------------------------------\n",
    "    # Curva LM \n",
    "\n",
    "# Parámetros\n",
    "\n",
    "Y_size = 100\n",
    "\n",
    "k = 2\n",
    "j = 1                \n",
    "Ms = 200             \n",
    "P  = 20               \n",
    "\n",
    "Y = np.arange(Y_size)\n",
    "\n",
    "# Ecuación\n",
    "\n",
    "def r_LM(k, j, Ms, P, Y):\n",
    "    r_LM = - (1/j)*(Ms/P) + (k/j)*Y\n",
    "    return r_LM\n",
    "\n",
    "r_lm = r_LM( k, j, Ms, P, Y)"
   ]
  },
  {
   "cell_type": "code",
   "execution_count": 4,
   "id": "60315209",
   "metadata": {},
   "outputs": [
    {
     "data": {
      "image/png": "[encoded data removed]",
      "text/plain": [
       "<Figure size 720x576 with 1 Axes>"
      ]
     },
     "metadata": {},
     "output_type": "display_data"
    }
   ],
   "source": [
    "# Gráfico del modelo IS-LM\n",
    "\n",
    "# Dimensiones del gráfico\n",
    "y_max = np.max(r_lm)\n",
    "fig, ax = plt.subplots(figsize=(10, 8))\n",
    "\n",
    "# Curvas a graficar\n",
    "# Curva IS\n",
    "ax.plot(Y, r_is, label = \"IS\", color = \"#554BDE\") #IS\n",
    "# Curva LM\n",
    "ax.plot(Y, r_lm, label=\"LM\", color = \"#F060D3\")  #LM\n",
    "\n",
    "# Eliminar las cantidades de los ejes\n",
    "ax.yaxis.set_major_locator(plt.NullLocator())   \n",
    "ax.xaxis.set_major_locator(plt.NullLocator())\n",
    "\n",
    "# Texto y figuras agregadas\n",
    "# Graficar la linea horizontal - r\n",
    "plt.axvline(x=52.5,  ymin= 0, ymax= 0.53, linestyle = \":\", color = \"black\")\n",
    "# Grafica la linea vertical - Y\n",
    "plt.axhline(y=94, xmin= 0, xmax= 0.53, linestyle = \":\", color = \"black\")\n",
    "\n",
    "# Plotear los textos \n",
    "plt.text(49,100, '$E_0$', fontsize = 14, color = 'black')\n",
    "plt.text(0,100, '$r_0$', fontsize = 12, color = 'black')\n",
    "plt.text(53,-10, '$Y_0$', fontsize = 12, color = 'black')\n",
    "\n",
    "\n",
    "# Título, ejes y leyenda\n",
    "ax.set(title=\"Equilibrio simultáneo en los mercados de bienes y de dinero\", xlabel= r'Y', ylabel= r'r')\n",
    "ax.legend()\n",
    "\n",
    "plt.show()"
   ]
  },
  {
   "cell_type": "code",
   "execution_count": null,
   "id": "3ab28497",
   "metadata": {},
   "outputs": [],
   "source": [
    "# Beta_0 y beta_1\n",
    "beta_0 = (Co + Io + Go + Xo)\n",
    "beta_1 = ( 1-(b-m)*(1-t) )\n",
    "\n",
    "# Producto de equilibrio y la tasa de interes de equilibrio en el modelo IS-LM\n",
    "Y_eq = (k*beta_0)/(k*h + j*beta_1) - ( beta_1 / (k*h + j*beta_1) )*(Ms/P)\n",
    "r_eq = (j*beta_0)/(k*h + j*beta_1) + ( h / (k*h + j*beta_1) )*(Ms/P)"
   ]
  },
  {
   "cell_type": "markdown",
   "id": "e463c505",
   "metadata": {},
   "source": [
    "### 2. Estática Comparativa"
   ]
  },
  {
   "cell_type": "markdown",
   "id": "5d07c07a",
   "metadata": {},
   "source": [
    "#### Efectos sobre Y y r en una disminución del gasto fiscal    ( ∆Go < 0)"
   ]
  },
  {
   "cell_type": "markdown",
   "id": "f6653036",
   "metadata": {},
   "source": [
    "#### Intuición: Revisar"
   ]
  },
  {
   "cell_type": "markdown",
   "id": "f2a72e07",
   "metadata": {},
   "source": [
    "##### Mercado de bienes (IS):"
   ]
  },
  {
   "cell_type": "markdown",
   "id": "93ad689e",
   "metadata": {},
   "source": [
    "$$ Go↓ → DA↓ → DA < Y → Y↓ $$"
   ]
  },
  {
   "cell_type": "markdown",
   "id": "a52c247a",
   "metadata": {},
   "source": [
    "##### Mercado de dinero (Lm): "
   ]
  },
  {
   "cell_type": "markdown",
   "id": "acfad217",
   "metadata": {},
   "source": [
    "$$ Y↓ → Md↓ → Md < Ms → r↓ $$"
   ]
  },
  {
   "cell_type": "markdown",
   "id": "d04dafa6",
   "metadata": {},
   "source": [
    "#### Matemáticamente: "
   ]
  },
  {
   "cell_type": "code",
   "execution_count": 7,
   "id": "122022fa",
   "metadata": {},
   "outputs": [],
   "source": [
    "# nombrar variables como símbolos\n",
    "Co, Io, Go, Xo, h, r, b, m, t, beta_0, beta_1  = symbols('Co Io Go Xo h r b m t beta_0, beta_1')\n",
    "\n",
    "# nombrar variables como símbolos\n",
    "k, j, Ms, P, Y = symbols('k j Ms P Y')\n",
    "\n",
    "# Beta_0 y beta_1\n",
    "beta_0 = (Co + Io + Go + Xo)\n",
    "beta_1 = ( 1-(b-m)*(1-t) )\n",
    "\n",
    "# Producto de equilibrio y la tasa de interes de equilibrio en el modelo IS-LM\n",
    "r_eq = (k*beta_0)/(k*h + j*beta_1) - ( beta_1 / (k*h + j*beta_1) )*(Ms/P)\n",
    "Y_eq = (j*beta_0)/(k*h + j*beta_1) + ( h / (k*h + j*beta_1) )*(Ms/P)"
   ]
  },
  {
   "cell_type": "code",
   "execution_count": 8,
   "id": "43e6df51",
   "metadata": {},
   "outputs": [
    {
     "name": "stdout",
     "output_type": "stream",
     "text": [
      "El Diferencial del producto con respecto al diferencial del gasto autonomo =  j/(h*k + j*(-(1 - t)*(b - m) + 1))\n"
     ]
    }
   ],
   "source": [
    "df_Y_eq_Go = diff(Y_eq, Go)\n",
    "print(\"El Diferencial del producto con respecto al diferencial del gasto autonomo = \", df_Y_eq_Go)  # este diferencial es positivo"
   ]
  },
  {
   "cell_type": "markdown",
   "id": "ef52fb67",
   "metadata": {},
   "source": [
    "¿$∆Y$ sabiendo que $∆G_0 < 0$?\n",
    "\n",
    "$$ \\frac{∆Y}{∆G_0} = \\frac{j}{(h*k + j*(-(1 - t)*(b - m) + 1))} $$\n",
    "\n",
    "$$ \\frac{∆Y}{(-)} = (+) $$\n",
    "\n",
    "$$ ∆Y < 0 $$"
   ]
  },
  {
   "cell_type": "code",
   "execution_count": 9,
   "id": "a2d58955",
   "metadata": {},
   "outputs": [
    {
     "name": "stdout",
     "output_type": "stream",
     "text": [
      "El Diferencial de la tasa de interes con respecto al diferencial del gasto autonomo =  k/(h*k + j*(-(1 - t)*(b - m) + 1))\n"
     ]
    }
   ],
   "source": [
    "df_r_eq_Go = diff(r_eq, Go)\n",
    "print(\"El Diferencial de la tasa de interes con respecto al diferencial del gasto autonomo = \", df_r_eq_Go)  # este diferencial es positivo"
   ]
  },
  {
   "cell_type": "markdown",
   "id": "1e9de0aa",
   "metadata": {},
   "source": [
    "¿$∆r$ sabiendo que $∆G_0 < 0$?\n",
    "\n",
    "$$ \\frac{∆r}{∆G_0} = \\frac{k}{(h*k + j*(-(1 - t)*(b - m) + 1))} $$\n",
    "\n",
    "$$ \\frac{∆r}{(-)} = (+) $$\n",
    "\n",
    "$$ ∆r < 0 $$"
   ]
  },
  {
   "cell_type": "markdown",
   "id": "db8bbd0c",
   "metadata": {},
   "source": [
    "#### Gráficos:"
   ]
  },
  {
   "cell_type": "code",
   "execution_count": 6,
   "id": "7fa24e1d",
   "metadata": {},
   "outputs": [],
   "source": [
    "#1--------------------------------------------------\n",
    "    # Curva IS ORIGINAL\n",
    "\n",
    "# Parámetros\n",
    "\n",
    "Y_size = 100 \n",
    "\n",
    "Co = 35\n",
    "Io = 40\n",
    "Go = 50\n",
    "Xo = 2\n",
    "h = 0.8\n",
    "b = 0.5\n",
    "m = 0.4\n",
    "t = 0.8\n",
    "\n",
    "Y = np.arange(Y_size)\n",
    "\n",
    "\n",
    "# Ecuación \n",
    "def r_IS(b, m, t, Co, Io, Go, Xo, h, Y):\n",
    "    r_IS = (Co + Io + Go + Xo - Y * (1-(b-m)*(1-t)))/h\n",
    "    return r_IS\n",
    "\n",
    "r = r_IS(b, m, t, Co, Io, Go, Xo, h, Y)\n",
    "\n",
    "\n",
    "#2--------------------------------------------------\n",
    "    # Curva LM ORIGINAL\n",
    "\n",
    "# Parámetros\n",
    "\n",
    "Y_size = 100\n",
    "\n",
    "k = 2\n",
    "j = 1                \n",
    "Ms = 200             \n",
    "P  = 20               \n",
    "\n",
    "Y = np.arange(Y_size)\n",
    "\n",
    "# Ecuación\n",
    "\n",
    "def i_LM( k, j, Ms, P, Y):\n",
    "    i_LM = (-Ms/P)/j + k/j*Y\n",
    "    return i_LM\n",
    "\n",
    "i = i_LM( k, j, Ms, P, Y)"
   ]
  },
  {
   "cell_type": "code",
   "execution_count": 7,
   "id": "04543c99",
   "metadata": {},
   "outputs": [],
   "source": [
    "#--------------------------------------------------\n",
    "    # NUEVA curva IS: reducción Gasto de Gobienro (Go)\n",
    "    \n",
    "# Definir SOLO el parámetro cambiado\n",
    "Go = 25\n",
    "\n",
    "# Generar la ecuación con el nuevo parámetro\n",
    "def r_IS(b, m, t, Co, Io, Go, Xo, h, Y):\n",
    "    r_IS = (Co + Io + Go + Xo - Y * (1-(b-m)*(1-t)))/h\n",
    "    return r_IS\n",
    "\n",
    "r_G = r_IS(b, m, t, Co, Io, Go, Xo, h, Y)"
   ]
  },
  {
   "cell_type": "code",
   "execution_count": 12,
   "id": "77491c2e",
   "metadata": {},
   "outputs": [
    {
     "data": {
      "image/png": "[encoded data removed]",
      "text/plain": [
       "<Figure size 720x576 with 1 Axes>"
      ]
     },
     "metadata": {
      "needs_background": "light"
     },
     "output_type": "display_data"
    }
   ],
   "source": [
    "# Gráfico\n",
    "\n",
    "# Dimensiones del gráfico\n",
    "y_max = np.max(i)\n",
    "fig, ax = plt.subplots(figsize=(10, 8))\n",
    "\n",
    "# Curvas a graficar\n",
    "ax.plot(Y, r, label = \"IS_(G_0)\", color = \"#E33D87\") #IS_orginal\n",
    "ax.plot(Y, r_G, label = \"IS_(G_1)\", color = \"#E33D87\", linestyle = 'dashed') #IS_modificada\n",
    "\n",
    "ax.plot(Y, i, label=\"LM\", color = \"#66E5F3\")  #LM_original\n",
    "\n",
    "# Texto y figuras agregadas\n",
    "plt.axvline(x=52,  ymin= 0, ymax= 0.53, linestyle = \":\", color = \"grey\")\n",
    "plt.axhline(y=94, xmin= 0, xmax= 0.53, linestyle = \":\", color = \"grey\")\n",
    "\n",
    "plt.axvline(x=43,  ymin= 0, ymax= 0.44, linestyle = \":\", color = \"grey\")\n",
    "plt.axhline(y=75, xmin= 0, xmax= 0.44, linestyle = \":\", color = \"grey\")\n",
    "\n",
    "plt.text(38,60, '$E_1$', fontsize = 14, color = 'black')\n",
    "plt.text(50,100, '$E_0$', fontsize = 14, color = 'black')\n",
    "plt.text(-1,100, '$r_0$', fontsize = 12, color = 'black')\n",
    "plt.text(-1,80, '$r_1$', fontsize = 12, color = 'black')\n",
    "plt.text(47,-10, '$Y_0$', fontsize = 12, color = 'black')\n",
    "plt.text(38,-10, '$Y_1$', fontsize = 12, color = 'black')\n",
    "\n",
    "plt.text(69, 52, '←', fontsize=15, color='grey')\n",
    "plt.text(46, 15, '←', fontsize=15, color='grey')\n",
    "plt.text(10, 82, '↓', fontsize=15, color='grey')\n",
    "\n",
    "# Título, ejes y leyenda\n",
    "ax.set(title=\"Disminución en el Gasto de Gobierno\", xlabel= r'Y', ylabel= r'r')\n",
    "ax.legend()\n",
    "\n",
    "plt.show()"
   ]
  },
  {
   "cell_type": "markdown",
   "id": "c4e0b825",
   "metadata": {},
   "source": [
    "### Efectos sobre Y y r en una disminución de la masa monetaria (Ms < 0)"
   ]
  },
  {
   "cell_type": "markdown",
   "id": "a1db6d97",
   "metadata": {},
   "source": [
    "### Intuición:"
   ]
  },
  {
   "cell_type": "markdown",
   "id": "7a6d03d6",
   "metadata": {},
   "source": [
    "#### Mercado de Bienes:"
   ]
  },
  {
   "cell_type": "markdown",
   "id": "ea3b0bfa",
   "metadata": {},
   "source": [
    "$$ r↑ → I↓ → DA < Y → Y↓ $$"
   ]
  },
  {
   "cell_type": "markdown",
   "id": "7690ed9a",
   "metadata": {},
   "source": [
    "#### Mercado de Dinero"
   ]
  },
  {
   "cell_type": "markdown",
   "id": "158d01e0",
   "metadata": {},
   "source": [
    "$$ M_s↓ → M^o↓ → M^o < M^d → r↑ $$"
   ]
  },
  {
   "cell_type": "markdown",
   "id": "ca1220dd",
   "metadata": {},
   "source": [
    "### Matemáticamente: Revisar "
   ]
  },
  {
   "cell_type": "code",
   "execution_count": 13,
   "id": "81ad4fb7",
   "metadata": {},
   "outputs": [],
   "source": [
    "# nombrar variables como símbolos\n",
    "Co, Io, Go, Xo, h, r, b, m, t, beta_0, beta_1  = symbols('Co Io Go Xo h r b m t beta_0, beta_1')\n",
    "\n",
    "# nombrar variables como símbolos\n",
    "k, j, Ms, P, Y = symbols('k j Ms P Y')\n",
    "\n",
    "# Beta_0 y beta_1\n",
    "beta_0 = (Co + Io + Go + Xo)\n",
    "beta_1 = ( 1-(b-m)*(1-t) )\n",
    "\n",
    "# Producto de equilibrio y la tasa de interes de equilibrio en el modelo IS-LM\n",
    "r_eq = (k*beta_0)/(k*h + j*beta_1) - ( beta_1 / (k*h + j*beta_1) )*(Ms/P)\n",
    "Y_eq = (j*beta_0)/(k*h + j*beta_1) + ( h / (k*h + j*beta_1) )*(Ms/P)"
   ]
  },
  {
   "cell_type": "code",
   "execution_count": 14,
   "id": "39068251",
   "metadata": {},
   "outputs": [
    {
     "name": "stdout",
     "output_type": "stream",
     "text": [
      "El Diferencial del Producto con respecto al diferencial de la masa monetaria =  h/(P*(h*k + j*(-(1 - t)*(b - m) + 1)))\n"
     ]
    }
   ],
   "source": [
    "df_Y_eq_Ms = diff(Y_eq, Ms)\n",
    "print(\"El Diferencial del Producto con respecto al diferencial de la masa monetaria = \", df_Y_eq_Ms)  # este diferencial es positivo"
   ]
  },
  {
   "cell_type": "markdown",
   "id": "41e121be",
   "metadata": {},
   "source": [
    "¿$∆Y$ sabiendo que $∆M^s < 0$?\n",
    "\n",
    "$$ \\frac{∆Y}{∆M^s} = \\frac{h}{(P*(h*k + j*(-(1 - t)*(b - m) + 1)))} $$\n",
    "\n",
    "$$ \\frac{∆Y}{(-)} = (+) $$\n",
    "\n",
    "$$ ∆Y < 0 $$"
   ]
  },
  {
   "cell_type": "code",
   "execution_count": 15,
   "id": "dd908749",
   "metadata": {},
   "outputs": [
    {
     "name": "stdout",
     "output_type": "stream",
     "text": [
      "El Diferencial de la tasa de interes con respecto al diferencial de la masa monetaria =  -(-(1 - t)*(b - m) + 1)/(P*(h*k + j*(-(1 - t)*(b - m) + 1)))\n"
     ]
    }
   ],
   "source": [
    "df_r_eq_Ms = diff(r_eq, Ms)\n",
    "print(\"El Diferencial de la tasa de interes con respecto al diferencial de la masa monetaria = \", df_r_eq_Ms)  # este diferencial es positivo"
   ]
  },
  {
   "cell_type": "markdown",
   "id": "a41d6011",
   "metadata": {},
   "source": [
    "¿$∆r$ sabiendo que $∆M^s < 0$?\n",
    "\n",
    "$$ \\frac{∆r}{∆M^s} = \\frac{-(-(1 - t)*(b - m) + 1)}{(P*(h*k + j*(-(1 - t)*(b - m) + 1)))} $$\n",
    "\n",
    "$$ \\frac{∆r}{(-)} = (-) $$\n",
    "\n",
    "$$ ∆r > 0 $$"
   ]
  },
  {
   "cell_type": "markdown",
   "id": "61392770",
   "metadata": {},
   "source": [
    "### Gráfico:"
   ]
  },
  {
   "cell_type": "code",
   "execution_count": 14,
   "id": "30dac457",
   "metadata": {},
   "outputs": [],
   "source": [
    "#1--------------------------------------------------\n",
    "    # Curva IS ORIGINAL\n",
    "\n",
    "# Parámetros\n",
    "\n",
    "Y_size = 100 \n",
    "\n",
    "Co = 35\n",
    "Io = 40\n",
    "Go = 50\n",
    "Xo = 2\n",
    "h = 0.8\n",
    "b = 0.5\n",
    "m = 0.4\n",
    "t = 0.8\n",
    "\n",
    "Y = np.arange(Y_size)\n",
    "\n",
    "\n",
    "# Ecuación \n",
    "def r_IS(b, m, t, Co, Io, Go, Xo, h, Y):\n",
    "    r_IS = (Co + Io + Go + Xo - Y * (1-(b-m)*(1-t)))/h\n",
    "    return r_IS\n",
    "\n",
    "r = r_IS(b, m, t, Co, Io, Go, Xo, h, Y)\n",
    "\n",
    "\n",
    "#2--------------------------------------------------\n",
    "    # Curva LM ORIGINAL\n",
    "\n",
    "# Parámetros\n",
    "\n",
    "Y_size = 100\n",
    "\n",
    "k = 2\n",
    "j = 1                \n",
    "Ms = 700             \n",
    "P  = 20               \n",
    "\n",
    "Y = np.arange(Y_size)\n",
    "\n",
    "# Ecuación\n",
    "\n",
    "def i_LM( k, j, Ms, P, Y):\n",
    "    i_LM = (-Ms/P)/j + k/j*Y\n",
    "    return i_LM\n",
    "\n",
    "i = i_LM( k, j, Ms, P, Y)"
   ]
  },
  {
   "cell_type": "code",
   "execution_count": 15,
   "id": "25b21fd4",
   "metadata": {},
   "outputs": [],
   "source": [
    "# Definir SOLO el parámetro cambiado\n",
    "Ms = 200\n",
    "\n",
    "# Generar nueva curva LM con la variacion del Ms\n",
    "def i_LM_Ms( k, j, Ms, P, Y):\n",
    "    i_LM = (-Ms/P)/j + k/j*Y\n",
    "    return i_LM\n",
    "\n",
    "i_Ms = i_LM_Ms( k, j, Ms, P, Y)"
   ]
  },
  {
   "cell_type": "code",
   "execution_count": 17,
   "id": "57015ae7",
   "metadata": {
    "scrolled": false
   },
   "outputs": [
    {
     "data": {
      "image/png": "[encoded data removed]",
      "text/plain": [
       "<Figure size 720x576 with 1 Axes>"
      ]
     },
     "metadata": {
      "needs_background": "light"
     },
     "output_type": "display_data"
    }
   ],
   "source": [
    "# Dimensiones del gráfico\n",
    "y_max = np.max(i)\n",
    "fig, ax = plt.subplots(figsize=(10, 8))\n",
    "\n",
    "# Curvas a graficar\n",
    "ax.plot(Y, r, label = \"IS\", color = \"#ED0000\") #IS_orginal\n",
    "ax.plot(Y, i, label=\"LM_(MS_0)\", color = \"#FF8F20\")  #LM_original\n",
    "\n",
    "ax.plot(Y, i_Ms, label=\"LM_(MS_1)\", color = \"#FF8F20\", linestyle = 'dashed')  #LM_modificada\n",
    "\n",
    "# Lineas de equilibrio_0 \n",
    "plt.axvline(x=60,  ymin= 0, ymax= 0.53, linestyle = \":\", color = \"grey\")\n",
    "plt.axhline(y=85, xmin= 0, xmax= 0.6, linestyle = \":\", color = \"grey\")\n",
    "\n",
    "# Lineas de equilibrio_1 \n",
    "plt.axvline(x=52,  ymin= 0, ymax= 0.57, linestyle = \":\", color = \"grey\")\n",
    "plt.axhline(y=94, xmin= 0, xmax= 0.53, linestyle = \":\", color = \"grey\")\n",
    "\n",
    "# Textos ploteados\n",
    "plt.text(58,92, '$E_0$', fontsize = 14, color = 'black')\n",
    "plt.text(50,101, '$E_1$', fontsize = 14, color = 'black')\n",
    "plt.text(-1,75, '$r_0$', fontsize = 12, color = 'black')\n",
    "plt.text(62,-40, '$Y_0$', fontsize = 12, color = 'black')\n",
    "plt.text(-1,100, '$r_1$', fontsize = 12, color = '#3D59AB')\n",
    "plt.text(53,-40, '$Y_1$', fontsize = 12, color = '#3D59AB')\n",
    "\n",
    "plt.text(69, 115, '←', fontsize=15, color='grey')\n",
    "plt.text(55, 15, '←', fontsize=15, color='grey')\n",
    "plt.text(10, 87, '↑', fontsize=15, color='grey')\n",
    "\n",
    "# Título, ejes y leyenda\n",
    "ax.set(title=\"Efecto de una disminución de la masa monetaria\", xlabel= r'Y', ylabel= r'r')\n",
    "ax.legend()\n",
    "\n",
    "plt.show()"
   ]
  },
  {
   "cell_type": "markdown",
   "id": "6679b3f8",
   "metadata": {},
   "source": [
    "### Efectos sobre Y y r en un incremento de la tasa de impuestos (t > 0)"
   ]
  },
  {
   "cell_type": "markdown",
   "id": "c93abb39",
   "metadata": {},
   "source": [
    "### Intuición:"
   ]
  },
  {
   "cell_type": "markdown",
   "id": "35ad0e85",
   "metadata": {},
   "source": [
    "#### Mercado de Bienes:"
   ]
  },
  {
   "cell_type": "markdown",
   "id": "b80e0c82",
   "metadata": {},
   "source": [
    "$$ t↑ → DA↓ → DA < Y → Y↓$$"
   ]
  },
  {
   "cell_type": "markdown",
   "id": "dc89e910",
   "metadata": {},
   "source": [
    "#### Mercado de Dinero:"
   ]
  },
  {
   "cell_type": "markdown",
   "id": "df486d48",
   "metadata": {},
   "source": [
    "$$ Y↓ → Md↓ → Md < Ms → r↓ $$"
   ]
  },
  {
   "cell_type": "markdown",
   "id": "35ed3db6",
   "metadata": {},
   "source": [
    "### Matemáticamente: REVISAR!"
   ]
  },
  {
   "cell_type": "code",
   "execution_count": 19,
   "id": "1cd1c13a",
   "metadata": {},
   "outputs": [],
   "source": [
    "# nombrar variables como símbolos\n",
    "Co, Io, Go, Xo, h, r, b, m, t, beta_0, beta_1  = symbols('Co Io Go Xo h r b m t beta_0, beta_1')\n",
    "\n",
    "# nombrar variables como símbolos\n",
    "k, j, Ms, P, Y = symbols('k j Ms P Y')\n",
    "\n",
    "# Beta_0 y beta_1\n",
    "beta_0 = (Co + Io + Go + Xo)\n",
    "beta_1 = ( 1-(b-m)*(1-t) )\n",
    "\n",
    "# Producto de equilibrio y la tasa de interes de equilibrio en el modelo IS-LM\n",
    "r_eq = (k*beta_0)/(k*h + j*beta_1) - ( beta_1 / (k*h + j*beta_1) )*(Ms/P)\n",
    "Y_eq = (j*beta_0)/(k*h + j*beta_1) + ( h / (k*h + j*beta_1) )*(Ms/P)"
   ]
  },
  {
   "cell_type": "code",
   "execution_count": 20,
   "id": "5a9f41e8",
   "metadata": {},
   "outputs": [
    {
     "name": "stdout",
     "output_type": "stream",
     "text": [
      "El Diferencial del producto con respecto al diferencial de la tasa impositiva =  -Ms*h*j*(b - m)/(P*(h*k + j*(-(1 - t)*(b - m) + 1))**2) - j**2*(b - m)*(Co + Go + Io + Xo)/(h*k + j*(-(1 - t)*(b - m) + 1))**2\n"
     ]
    }
   ],
   "source": [
    "df_Y_eq_t = diff(Y_eq, t)\n",
    "print(\"El Diferencial del producto con respecto al diferencial de la tasa impositiva = \", df_Y_eq_t)  # este diferencial es positivo"
   ]
  },
  {
   "cell_type": "markdown",
   "id": "2a6326cc",
   "metadata": {},
   "source": [
    "¿$∆Y$ sabiendo que $∆t > 0$?\n",
    "\n",
    "$$ \\frac{∆Y}{∆t} = (-) $$\n",
    "\n",
    "$$ \\frac{∆Y}{(+)} = (-) $$\n",
    "\n",
    "$$ ∆Y < 0 $$"
   ]
  },
  {
   "cell_type": "code",
   "execution_count": 21,
   "id": "b6110cd7",
   "metadata": {},
   "outputs": [
    {
     "name": "stdout",
     "output_type": "stream",
     "text": [
      "El Diferencial de la tasa de interes con respecto al diferencial a la tasa impositiva=  Ms*j*(b - m)*(-(1 - t)*(b - m) + 1)/(P*(h*k + j*(-(1 - t)*(b - m) + 1))**2) - Ms*(b - m)/(P*(h*k + j*(-(1 - t)*(b - m) + 1))) - j*k*(b - m)*(Co + Go + Io + Xo)/(h*k + j*(-(1 - t)*(b - m) + 1))**2\n"
     ]
    }
   ],
   "source": [
    "df_r_eq_t = diff(r_eq, t)\n",
    "print(\"El Diferencial de la tasa de interes con respecto al diferencial a la tasa impositiva= \", df_r_eq_t)  # este diferencial es positivo"
   ]
  },
  {
   "cell_type": "markdown",
   "id": "89d3ba7f",
   "metadata": {},
   "source": [
    "¿$∆r$ sabiendo que $∆t > 0$?\n",
    "\n",
    "$$ \\frac{∆r}{∆t} = (-) $$\n",
    "\n",
    "$$ \\frac{∆r}{(+)} = (-) $$\n",
    "\n",
    "$$ ∆r < 0 $$"
   ]
  },
  {
   "cell_type": "markdown",
   "id": "7040c474",
   "metadata": {},
   "source": [
    "### Gráfico: "
   ]
  },
  {
   "cell_type": "code",
   "execution_count": 20,
   "id": "0d314e22",
   "metadata": {},
   "outputs": [],
   "source": [
    "#1--------------------------------------------------\n",
    "    # Curva IS ORIGINAL\n",
    "\n",
    "# Parámetros\n",
    "\n",
    "Y_size = 100 \n",
    "\n",
    "Co = 35\n",
    "Io = 40\n",
    "Go = 50\n",
    "Xo = 2\n",
    "h = 0.8\n",
    "b = 0.5\n",
    "m = 0.4\n",
    "t = 0.1\n",
    "\n",
    "Y = np.arange(Y_size)\n",
    "\n",
    "\n",
    "# Ecuación \n",
    "def r_IS(b, m, t, Co, Io, Go, Xo, h, Y):\n",
    "    r_IS = (Co + Io + Go + Xo - Y * (1-(b-m)*(1-t)))/h\n",
    "    return r_IS\n",
    "\n",
    "r = r_IS(b, m, t, Co, Io, Go, Xo, h, Y)\n",
    "\n",
    "\n",
    "#2--------------------------------------------------\n",
    "    # Curva LM ORIGINAL\n",
    "\n",
    "# Parámetros\n",
    "\n",
    "Y_size = 100\n",
    "\n",
    "k = 2\n",
    "j = 1                \n",
    "Ms = 200             \n",
    "P  = 20               \n",
    "\n",
    "Y = np.arange(Y_size)\n",
    "\n",
    "# Ecuación\n",
    "\n",
    "def i_LM( k, j, Ms, P, Y):\n",
    "    i_LM = (-Ms/P)/j + k/j*Y\n",
    "    return i_LM\n",
    "\n",
    "i = i_LM( k, j, Ms, P, Y)"
   ]
  },
  {
   "cell_type": "code",
   "execution_count": 21,
   "id": "613b1490",
   "metadata": {},
   "outputs": [],
   "source": [
    "#--------------------------------------------------\n",
    "    # NUEVA curva IS: \n",
    "    \n",
    "# Definir SOLO el parámetro cambiado\n",
    "t = 3\n",
    "\n",
    "# Generar la ecuación con el nuevo parámetro\n",
    "def r_IS(b, m, t, Co, Io, Go, Xo, h, Y):\n",
    "    r_IS = (Co + Io + Go + Xo - Y * (1-(b-m)*(1-t)))/h\n",
    "    return r_IS\n",
    "\n",
    "r_t = r_IS(b, m, t, Co, Io, Go, Xo, h, Y)"
   ]
  },
  {
   "cell_type": "code",
   "execution_count": 25,
   "id": "115f3f22",
   "metadata": {
    "scrolled": false
   },
   "outputs": [
    {
     "data": {
      "image/png": "[encoded data removed]",
      "text/plain": [
       "<Figure size 720x576 with 1 Axes>"
      ]
     },
     "metadata": {
      "needs_background": "light"
     },
     "output_type": "display_data"
    }
   ],
   "source": [
    "# Gráfico\n",
    "\n",
    "# Dimensiones del gráfico\n",
    "y_max = np.max(i)\n",
    "fig, ax = plt.subplots(figsize=(10, 8))\n",
    "\n",
    "# Curvas a graficar\n",
    "ax.plot(Y, r, label = \"IS_(G_0)\", color = \"#C784FC\") #IS_orginal\n",
    "ax.plot(Y, r_t, label = \"IS_(G_1)\", color = \"#C784FC\", linestyle = 'dashed') #IS_modificada\n",
    "\n",
    "ax.plot(Y, i, label=\"LM\", color = \"#82C7B1\")  #LM_original\n",
    "\n",
    "# Texto y figuras agregadas\n",
    "plt.axvline(x=48,  ymin= 0, ymax= 0.48, linestyle = \":\", color = \"grey\")\n",
    "plt.axhline(y=86, xmin= 0, xmax= 0.48, linestyle = \":\", color = \"grey\")\n",
    "\n",
    "plt.axvline(x=54,  ymin= 0, ymax= 0.54, linestyle = \":\", color = \"grey\")\n",
    "plt.axhline(y=98, xmin= 0, xmax= 0.54, linestyle = \":\", color = \"grey\")\n",
    "\n",
    "plt.text(43,70, '$E_1$', fontsize = 14, color = 'black')\n",
    "plt.text(52,103, '$E_0$', fontsize = 14, color = 'black')\n",
    "plt.text(-1,101, '$r_0$', fontsize = 12, color = 'black')\n",
    "plt.text(-1,79, '$r_1$', fontsize = 12, color = 'black')\n",
    "plt.text(55,-10, '$Y_0$', fontsize = 12, color = 'black')\n",
    "plt.text(44,-10, '$Y_1$', fontsize = 12, color = 'black')\n",
    "\n",
    "plt.text(69, 61, '←', fontsize=15, color='grey')\n",
    "plt.text(49, 15, '←', fontsize=15, color='grey')\n",
    "plt.text(10, 89, '↓', fontsize=15, color='grey')\n",
    "\n",
    "# Título, ejes y leyenda\n",
    "ax.set(title=\"Aumento en la Tasa Impositiva\", xlabel= r'Y', ylabel= r'r')\n",
    "ax.legend()\n",
    "\n",
    "plt.show()"
   ]
  },
  {
   "cell_type": "markdown",
   "id": "449815b5",
   "metadata": {},
   "source": [
    "# Puntos extra"
   ]
  },
  {
   "cell_type": "markdown",
   "id": "9ba15053",
   "metadata": {},
   "source": [
    "### 1. A partir del siguiente sistema de ecuaciones que representan el modelo IS-LM\n",
    "#### 1.1 Ecuaciones de Ingreso $(Y^e)$ y tasa de interes $(r^e)$ de equilibrio (escriba paso a paso la derivacion de estas ecuaciones)."
   ]
  },
  {
   "cell_type": "markdown",
   "id": "f80ff13b",
   "metadata": {},
   "source": [
    "- Curva IS:\n",
    "\n",
    "A partir de la nueva identidad Ingreso-Gasto: $ Y = C + I + G $\n",
    "\n",
    "$$ Y = C_0 + bY^d + I_0 - hr + G_0$$\n",
    "\n",
    "$$ Y = C_0 + I_0 + G_0 - hr + b(1-t)Y $$\n",
    "\n",
    "$$ hr = C_0 + I_0 + G_0 + b(1-t)Y - Y $$\n",
    "\n",
    "$$ hr = C_0 + I_0 + G_0 - Y(1- b(1-t)) $$\n",
    "\n",
    "La ecuación de la curva IS es:\n",
    "\n",
    "$$ r = \\frac{C_0 + I_0 + G_0}{h} - \\frac{1- b(1-t)}{h}Y $$\n",
    "\n",
    "$$ r = \\frac{B_0}{h} - \\frac{B_1}{h}Y $$\n",
    "\n",
    "Donde $B_0 = C_0 + I_0 + G_0 $ y $ B_1 = 1- b(1-t) $"
   ]
  },
  {
   "cell_type": "markdown",
   "id": "a7ddb30b",
   "metadata": {},
   "source": [
    "- Curva LM:\n",
    "\n",
    "$$ \\frac{M^s_0}{P_0} = kY - j(r + π^e) $$\n",
    "\n",
    "$$ j(r + π^e) = kY - \\frac{M^s_0}{P_0} $$\n",
    "\n",
    "$$ r + π^e = - \\frac{M^s_0}{jP_0} + \\frac{kY}{j} $$\n",
    "\n",
    "La ecuación de la curva LM es:\n",
    "\n",
    "$$ r = - \\frac{M^s_0}{jP_0} + \\frac{k}{j}Y - π^e $$"
   ]
  },
  {
   "cell_type": "markdown",
   "id": "148afff1",
   "metadata": {},
   "source": [
    "- Equilibrio modelo IS-LM:\n",
    "\n",
    "Para hallar $Y^e$:\n",
    "\n",
    "$$ \\frac{B_0}{h} - \\frac{B_1}{h}Y = - \\frac{M^s_0}{jP_0} + \\frac{k}{j}Y - π^e $$\n",
    "\n",
    "$$ \\frac{B_0}{h} + \\frac{M^s_0}{jP_0} + π^e = \\frac{k}{j}Y + \\frac{B_1}{h}Y $$\n",
    "\n",
    "$$ Y(\\frac{k}{j} + \\frac{B_1}{h}) = \\frac{B_0}{h} + \\frac{M^s_0}{jP_0} + π^e $$\n",
    "\n",
    "$$ Y(\\frac{hk + jB_1}{jh}) = \\frac{B_0}{h} + \\frac{M^s_0}{jP_0} + π^e $$\n",
    "\n",
    "$$ Y^e = \\frac{jB_0}{kh + jB_1} + \\frac{M_0^s}{P_0} \\frac{h}{kh + jB_1} + \\frac{jh}{kh + jB_1} π^e $$\n",
    "\n",
    "Para hallar $r^e$:\n",
    "\n",
    "$$ r^e = - \\frac{Ms_o}{P_o} (\\frac{B_1}{kh + jB_1}) + \\frac{kB_o}{kh + jB_1} - \\frac{B_1}{kh + jB_1} π^e $$"
   ]
  },
  {
   "cell_type": "markdown",
   "id": "3a34d93d",
   "metadata": {},
   "source": [
    "#### 1.2 Grafique el equilibrio simultáneo en los mercados de bienes y de dinero."
   ]
  },
  {
   "cell_type": "code",
   "execution_count": 54,
   "id": "f3db886b",
   "metadata": {},
   "outputs": [],
   "source": [
    "#--------------------------------------------------\n",
    "    # Curva IS\n",
    "\n",
    "# Parámetros\n",
    "\n",
    "Y_size = 100 \n",
    "\n",
    "Co = 35\n",
    "Io = 40\n",
    "Go = 50\n",
    "h = 0.8\n",
    "b = 0.5\n",
    "t = 0.8\n",
    "\n",
    "Y = np.arange(Y_size)\n",
    "\n",
    "\n",
    "# Ecuación \n",
    "def r_IS_2(b, t, Co, Io, Go, h, Y):\n",
    "    r_IS_2 = (Co + Io + Go - Y * (1-b*(1-t)))/h\n",
    "    return r_IS_2\n",
    "\n",
    "r_2 = r_IS_2(b, t, Co, Io, Go, h, Y)\n",
    "\n",
    "\n",
    "#--------------------------------------------------\n",
    "    # Curva LM \n",
    "\n",
    "# Parámetros\n",
    "\n",
    "Y_size = 100\n",
    "\n",
    "k = 2\n",
    "j = 1                \n",
    "Ms = 200             \n",
    "P  = 20\n",
    "π = 4\n",
    "\n",
    "Y = np.arange(Y_size)\n",
    "\n",
    "# Ecuación\n",
    "\n",
    "def i_LM_2(k, j, Ms, P, Y, π):\n",
    "    i_LM_2 = (-Ms/P)/j + k/j*Y - π\n",
    "    return i_LM_2\n",
    "\n",
    "i_2 = i_LM_2( k, j, Ms, P, Y, π)"
   ]
  },
  {
   "cell_type": "code",
   "execution_count": 55,
   "id": "3ea7b847",
   "metadata": {},
   "outputs": [
    {
     "data": {
      "image/png": "[encoded data removed]",
      "text/plain": [
       "<Figure size 720x576 with 1 Axes>"
      ]
     },
     "metadata": {},
     "output_type": "display_data"
    }
   ],
   "source": [
    "    # Gráfico del modelo IS-LM\n",
    "\n",
    "# Dimensiones del gráfico\n",
    "y_max = np.max(i)\n",
    "fig, ax = plt.subplots(figsize=(10, 8))\n",
    "\n",
    "# Curvas a graficar\n",
    "ax.plot(Y, r_2, label = \"IS\", color = \"#CE66FF\") #IS\n",
    "ax.plot(Y, i_2, label=\"LM\", color = \"#FF69B6\")  #LM\n",
    "\n",
    "# Eliminar las cantidades de los ejes\n",
    "ax.yaxis.set_major_locator(plt.NullLocator())   \n",
    "ax.xaxis.set_major_locator(plt.NullLocator())\n",
    "\n",
    "# Texto y figuras agregadas\n",
    "plt.axvline(x=55,  ymin= 0, ymax= 0.54, linestyle = \":\", color = \"black\")\n",
    "plt.axhline(y=94, xmin= 0, xmax= 0.55, linestyle = \":\", color = \"black\")\n",
    "plt.text(53,102, '$E_0$', fontsize = 14, color = 'black')\n",
    "plt.text(0,100, '$r_0$', fontsize = 12, color = 'black')\n",
    "plt.text(56,-15, '$Y_0$', fontsize = 12, color = 'black')\n",
    "\n",
    "# Título, ejes y leyenda\n",
    "ax.set(title=\"Equilibrio modelo IS-LM\", xlabel= r'Y', ylabel= r'r')\n",
    "ax.legend()\n",
    "\n",
    "plt.show()"
   ]
  },
  {
   "cell_type": "code",
   "execution_count": 56,
   "id": "9c9c1a40",
   "metadata": {},
   "outputs": [],
   "source": [
    "# nombrar variables como símbolos\n",
    "Co, Io, Go, h, r, b, t, beta_0, beta_1  = symbols('Co, Io, Go, h, r, b, t, beta_0, beta_1')\n",
    "\n",
    "# nombrar variables como símbolos\n",
    "k, j, Ms, P, Y, π = symbols('k j Ms P Y π')\n",
    "\n",
    "# Beta_0 y beta_1\n",
    "beta_0 = (Co + Io + Go)\n",
    "beta_1 = (1 - b*(1-t))\n",
    "\n",
    "# Producto de equilibrio y la tasa de interes de equilibrio en el modelo IS-LM\n",
    "r_eq = -(Ms/P)*(beta_1/(k*h+j*beta_1)) + ((k*beta_0)/k*h+j*beta_1) - ((beta_1*π)/k*h+j*beta_1)\n",
    "Y_eq = ((j*beta_0)/(k*h+j*beta_1)) + (Ms/P)*(h/(k*h+j*beta_1)) + (j*h*π/(k*h+j*beta_1))"
   ]
  },
  {
   "cell_type": "markdown",
   "id": "eda53d54",
   "metadata": {},
   "source": [
    "### 2. Estática comparativa:\n",
    "#### 2.1. Analice los efectos sobre las variables endógenas Y, r de una disminución de los Precios $(∆P_0 < 0)$. El análisis debe ser intuitivo, matemático y gráfico."
   ]
  },
  {
   "cell_type": "markdown",
   "id": "aa63892c",
   "metadata": {},
   "source": [
    "- Intuición:\n",
    "\n",
    "$$ P↓ → M^s↑ → M^s > M^d → r↓ $$\n",
    "\n",
    "$$ r↓ → I↑ → DA↑ → DA > Y → Y↑ $$\n",
    "\n",
    "- Matemática:"
   ]
  },
  {
   "cell_type": "code",
   "execution_count": 57,
   "id": "575f7a97",
   "metadata": {},
   "outputs": [],
   "source": [
    "# nombrar variables como símbolos\n",
    "Co, Io, Go, h, r, b, t, beta_0, beta_1  = symbols('Co, Io, Go, h, r, b, t, beta_0, beta_1')\n",
    "\n",
    "# nombrar variables como símbolos\n",
    "k, j, Ms, P, Y, π = symbols('k j Ms P Y π')\n",
    "\n",
    "# Beta_0 y beta_1\n",
    "beta_0 = (Co + Io + Go)\n",
    "beta_1 = (1 - b*(1-t))\n",
    "\n",
    "# Producto de equilibrio y la tasa de interes de equilibrio en el modelo IS-LM\n",
    "r_eq = -(Ms/P)*(beta_1/(k*h+j*beta_1)) + ((k*beta_0)/k*h+j*beta_1) - ((beta_1*π)/k*h+j*beta_1)\n",
    "Y_eq = ((j*beta_0)/(k*h+j*beta_1)) + (Ms/P)*(h/(k*h+j*beta_1)) + (j*h*π/(k*h+j*beta_1))"
   ]
  },
  {
   "cell_type": "code",
   "execution_count": 58,
   "id": "b5363431",
   "metadata": {},
   "outputs": [
    {
     "name": "stdout",
     "output_type": "stream",
     "text": [
      "El Diferencial del Producto con respecto al diferencial del nivel de precios =  -Ms*h/(P**2*(h*k + j*(-b*(1 - t) + 1)))\n"
     ]
    }
   ],
   "source": [
    "df_Y_eq_P = diff(Y_eq, P)\n",
    "print(\"El Diferencial del Producto con respecto al diferencial del nivel de precios = \", df_Y_eq_P)"
   ]
  },
  {
   "cell_type": "markdown",
   "id": "341b7e84",
   "metadata": {},
   "source": [
    "¿$∆Y$ sabiendo que $∆P < 0$?\n",
    "\n",
    "$$ \\frac{∆Y}{∆P} = (-) $$\n",
    "\n",
    "$$ \\frac{∆Y}{(-)} = (-) $$\n",
    "\n",
    "$$ ∆Y > 0 $$"
   ]
  },
  {
   "cell_type": "code",
   "execution_count": 59,
   "id": "c826db98",
   "metadata": {},
   "outputs": [
    {
     "name": "stdout",
     "output_type": "stream",
     "text": [
      "El Diferencial de la tasa de interés con respecto al diferencial del nivel de precios =  Ms*(-b*(1 - t) + 1)/(P**2*(h*k + j*(-b*(1 - t) + 1)))\n"
     ]
    }
   ],
   "source": [
    "df_r_eq_P = diff(r_eq, P)\n",
    "print(\"El Diferencial de la tasa de interés con respecto al diferencial del nivel de precios = \", df_r_eq_P)"
   ]
  },
  {
   "cell_type": "markdown",
   "id": "08a159d7",
   "metadata": {},
   "source": [
    "¿$∆r$ sabiendo que $∆P < 0$?\n",
    "\n",
    "$$ \\frac{∆r}{∆P} = (+) $$\n",
    "\n",
    "$$ \\frac{∆r}{(-)} = (+) $$\n",
    "\n",
    "$$ ∆r < 0 $$"
   ]
  },
  {
   "cell_type": "code",
   "execution_count": 60,
   "id": "a71da450",
   "metadata": {},
   "outputs": [],
   "source": [
    "#--------------------------------------------------\n",
    "    # Curva IS\n",
    "\n",
    "# Parámetros\n",
    "\n",
    "Y_size = 100 \n",
    "\n",
    "Co = 35\n",
    "Io = 40\n",
    "Go = 50\n",
    "h = 0.8\n",
    "b = 0.5\n",
    "t = 0.8\n",
    "\n",
    "Y = np.arange(Y_size)\n",
    "\n",
    "\n",
    "# Ecuación \n",
    "def r_IS_2(b, t, Co, Io, Go, h, Y):\n",
    "    r_IS_2 = (Co + Io + Go - Y * (1-b*(1-t)))/h\n",
    "    return r_IS_2\n",
    "\n",
    "r_2 = r_IS_2(b, t, Co, Io, Go, h, Y)\n",
    "\n",
    "\n",
    "#--------------------------------------------------\n",
    "    # Curva LM \n",
    "\n",
    "# Parámetros\n",
    "\n",
    "Y_size = 100\n",
    "\n",
    "k = 2\n",
    "j = 1                \n",
    "Ms = 200             \n",
    "P  = 20\n",
    "π = 4\n",
    "\n",
    "Y = np.arange(Y_size)\n",
    "\n",
    "# Ecuación\n",
    "\n",
    "def i_LM_2(k, j, Ms, P, Y, π):\n",
    "    i_LM_2 = (-Ms/P)/j + k/j*Y - π\n",
    "    return i_LM_2\n",
    "\n",
    "i_2 = i_LM_2( k, j, Ms, P, Y, π)\n",
    "\n",
    "\n",
    "#--------------------------------------------------\n",
    "    # Nueva curva LM \n",
    "    \n",
    "P = 5\n",
    "\n",
    "# Ecuación\n",
    "\n",
    "def i_LM_2(k, j, Ms, P, Y, π):\n",
    "    i_LM_2 = (-Ms/P)/j + k/j*Y - π\n",
    "    return i_LM_2\n",
    "\n",
    "i_2_P = i_LM_2( k, j, Ms, P, Y, π)"
   ]
  },
  {
   "cell_type": "code",
   "execution_count": 61,
   "id": "7bd91d69",
   "metadata": {},
   "outputs": [
    {
     "data": {
      "image/png": "[encoded data removed]",
      "text/plain": [
       "<Figure size 720x576 with 1 Axes>"
      ]
     },
     "metadata": {},
     "output_type": "display_data"
    }
   ],
   "source": [
    "    # Gráfico del modelo IS-LM\n",
    "\n",
    "# Dimensiones del gráfico\n",
    "y_max = np.max(i)\n",
    "fig, ax = plt.subplots(figsize=(10, 8))\n",
    "\n",
    "# Curvas a graficar\n",
    "ax.plot(Y, r_2, label = \"IS\", color = \"#1594F6\") #IS\n",
    "ax.plot(Y, i_2, label=\"LM\", color = \"#3AA63F\")  #LM\n",
    "ax.plot(Y, i_2_P, label=\"LM\", color = \"#3AA63F\", linestyle ='dashed')  #LM\n",
    "\n",
    "# Eliminar las cantidades de los ejes\n",
    "ax.yaxis.set_major_locator(plt.NullLocator())   \n",
    "ax.xaxis.set_major_locator(plt.NullLocator())\n",
    "\n",
    "# Texto y figuras agregadas\n",
    "plt.axvline(x=55,  ymin= 0, ymax= 0.6, linestyle = \":\", color = \"black\")\n",
    "plt.axhline(y=94, xmin= 0, xmax= 0.55, linestyle = \":\", color = \"black\")\n",
    "plt.text(53,102, '$E_0$', fontsize = 14, color = 'black')\n",
    "plt.text(0,100, '$r_0$', fontsize = 12, color = 'black')\n",
    "plt.text(56,-45, '$Y_0$', fontsize = 12, color = 'black')\n",
    "\n",
    "plt.axvline(x=64.5,  ymin= 0, ymax= 0.56, linestyle = \":\", color = \"black\")\n",
    "plt.axhline(y=85, xmin= 0, xmax= 0.64, linestyle = \":\", color = \"black\")\n",
    "plt.text(62,90, '$E_1$', fontsize = 14, color = 'black')\n",
    "plt.text(0,75, '$r_1$', fontsize = 12, color = 'black')\n",
    "plt.text(66,-45, '$Y_1$', fontsize = 12, color = 'black')\n",
    "\n",
    "# Título, ejes y leyenda\n",
    "ax.set(title=\"Disminución del Precio\", xlabel= r'Y', ylabel= r'r')\n",
    "ax.legend()\n",
    "\n",
    "plt.show()"
   ]
  },
  {
   "cell_type": "markdown",
   "id": "c9d62c10",
   "metadata": {},
   "source": [
    "#### 2.2 Analice los efectos sobre las variables endógenas Y, r de una disminución de la inflación esperada $(∆π < 0)$. El análisis debe ser intuitivo, matemático y gráfico."
   ]
  },
  {
   "cell_type": "markdown",
   "id": "f5f7211b",
   "metadata": {},
   "source": [
    "- Intuición:\n",
    "\n",
    "$$ π↓ → r↑ $$\n",
    "\n",
    "$$ r↑ → I↓ → DA↓ → DA < Y → Y↓ $$\n",
    "\n",
    "- Matemática:"
   ]
  },
  {
   "cell_type": "code",
   "execution_count": 62,
   "id": "846b3f25",
   "metadata": {},
   "outputs": [],
   "source": [
    "# nombrar variables como símbolos\n",
    "Co, Io, Go, h, r, b, t, beta_0, beta_1  = symbols('Co, Io, Go, h, r, b, t, beta_0, beta_1')\n",
    "\n",
    "# nombrar variables como símbolos\n",
    "k, j, Ms, P, Y, π = symbols('k j Ms P Y π')\n",
    "\n",
    "# Beta_0 y beta_1\n",
    "beta_0 = (Co + Io + Go)\n",
    "beta_1 = (1 - b*(1-t))\n",
    "\n",
    "# Producto de equilibrio y la tasa de interes de equilibrio en el modelo IS-LM\n",
    "r_eq = -(Ms/P)*(beta_1/(k*h+j*beta_1)) + ((k*beta_0)/k*h+j*beta_1) - ((beta_1*π)/k*h+j*beta_1)\n",
    "Y_eq = ((j*beta_0)/(k*h+j*beta_1)) + (Ms/P)*(h/(k*h+j*beta_1)) + (j*h*π/(k*h+j*beta_1))\n"
   ]
  },
  {
   "cell_type": "code",
   "execution_count": 63,
   "id": "1f0a63f1",
   "metadata": {},
   "outputs": [
    {
     "name": "stdout",
     "output_type": "stream",
     "text": [
      "El Diferencial del Producto con respecto al diferencial del nivel de inflación =  h*j/(h*k + j*(-b*(1 - t) + 1))\n"
     ]
    }
   ],
   "source": [
    "df_Y_eq_π = diff(Y_eq, π)\n",
    "print(\"El Diferencial del Producto con respecto al diferencial del nivel de inflación = \", df_Y_eq_π)"
   ]
  },
  {
   "cell_type": "markdown",
   "id": "8daaf5bc",
   "metadata": {},
   "source": [
    "¿$∆Y$ sabiendo que $∆π < 0$?\n",
    "\n",
    "$$ \\frac{∆Y}{∆π} = (+) $$\n",
    "\n",
    "$$ \\frac{∆Y}{(-)} = (+) $$\n",
    "\n",
    "$$ ∆Y < 0 $$"
   ]
  },
  {
   "cell_type": "code",
   "execution_count": 64,
   "id": "e40970f6",
   "metadata": {},
   "outputs": [
    {
     "name": "stdout",
     "output_type": "stream",
     "text": [
      "El Diferencial de la tasa de interés con respecto al diferencial del nivel de inflación =  -h*(-b*(1 - t) + 1)/k\n"
     ]
    }
   ],
   "source": [
    "df_r_eq_π = diff(r_eq, π)\n",
    "print(\"El Diferencial de la tasa de interés con respecto al diferencial del nivel de inflación = \", df_r_eq_π)"
   ]
  },
  {
   "cell_type": "markdown",
   "id": "a74bcdfb",
   "metadata": {},
   "source": [
    "¿$∆r$ sabiendo que $∆π < 0$?\n",
    "\n",
    "$$ \\frac{∆r}{∆π} = (-) $$\n",
    "\n",
    "$$ \\frac{∆r}{(-)} = (-) $$\n",
    "\n",
    "$$ ∆r > 0 $$"
   ]
  },
  {
   "cell_type": "markdown",
   "id": "faf4dfb9",
   "metadata": {},
   "source": [
    "- Gráfico:"
   ]
  },
  {
   "cell_type": "code",
   "execution_count": 65,
   "id": "cd6fc7a7",
   "metadata": {},
   "outputs": [],
   "source": [
    "#--------------------------------------------------\n",
    "    # Curva IS\n",
    "\n",
    "# Parámetros\n",
    "\n",
    "Y_size = 100 \n",
    "\n",
    "Co = 35\n",
    "Io = 40\n",
    "Go = 50\n",
    "h = 0.8\n",
    "b = 0.5\n",
    "t = 0.8\n",
    "\n",
    "Y = np.arange(Y_size)\n",
    "\n",
    "\n",
    "# Ecuación \n",
    "def r_IS_2(b, t, Co, Io, Go, h, Y):\n",
    "    r_IS_2 = (Co + Io + Go - Y * (1-b*(1-t)))/h\n",
    "    return r_IS_2\n",
    "\n",
    "r_2 = r_IS_2(b, t, Co, Io, Go, h, Y)\n",
    "\n",
    "\n",
    "#--------------------------------------------------\n",
    "    # Curva LM \n",
    "\n",
    "# Parámetros\n",
    "\n",
    "Y_size = 100\n",
    "\n",
    "k = 2\n",
    "j = 1                \n",
    "Ms = 200             \n",
    "P  = 20\n",
    "π = 20\n",
    "\n",
    "Y = np.arange(Y_size)\n",
    "\n",
    "# Ecuación\n",
    "\n",
    "def i_LM_2(k, j, Ms, P, Y, π):\n",
    "    i_LM_2 = (-Ms/P)/j + k/j*Y - π\n",
    "    return i_LM_2\n",
    "\n",
    "i_2 = i_LM_2( k, j, Ms, P, Y, π)\n",
    "\n",
    "\n",
    "#--------------------------------------------------\n",
    "    # Nueva curva LM \n",
    "    \n",
    "π = 2\n",
    "\n",
    "# Ecuación\n",
    "\n",
    "def i_LM_2(k, j, Ms, P, Y, π):\n",
    "    i_LM_2 = (-Ms/P)/j + k/j*Y - π\n",
    "    return i_LM_2\n",
    "\n",
    "i_2_π = i_LM_2( k, j, Ms, P, Y, π)"
   ]
  },
  {
   "cell_type": "code",
   "execution_count": 67,
   "id": "f2935792",
   "metadata": {},
   "outputs": [
    {
     "data": {
      "image/png": "[encoded data removed]",
      "text/plain": [
       "<Figure size 720x576 with 1 Axes>"
      ]
     },
     "metadata": {},
     "output_type": "display_data"
    }
   ],
   "source": [
    "    # Gráfico del modelo IS-LM\n",
    "\n",
    "# Dimensiones del gráfico\n",
    "y_max = np.max(i)\n",
    "fig, ax = plt.subplots(figsize=(10, 8))\n",
    "\n",
    "# Curvas a graficar\n",
    "ax.plot(Y, r_2, label = \"IS\", color = \"#F10080\") #IS\n",
    "ax.plot(Y, i_2, label=\"LM\", color = \"#5E2390\")  #LM\n",
    "ax.plot(Y, i_2_π, label=\"LM\", color = \"#5E2390\", linestyle ='dashed')  #LM\n",
    "\n",
    "# Eliminar las cantidades de los ejes\n",
    "ax.yaxis.set_major_locator(plt.NullLocator())   \n",
    "ax.xaxis.set_major_locator(plt.NullLocator())\n",
    "\n",
    "# Texto y figuras agregadas\n",
    "plt.axvline(x=54,  ymin= 0, ymax= 0.57, linestyle = \":\", color = \"black\")\n",
    "plt.axhline(y=95, xmin= 0, xmax= 0.54, linestyle = \":\", color = \"black\")\n",
    "plt.text(52,103, '$E_1$', fontsize = 14, color = 'black')\n",
    "plt.text(0,100, '$r_1$', fontsize = 12, color = 'black')\n",
    "plt.text(50,-35, '$Y_1$', fontsize = 12, color = 'black')\n",
    "\n",
    "plt.axvline(x=60,  ymin= 0, ymax= 0.55, linestyle = \":\", color = \"black\")\n",
    "plt.axhline(y=89, xmin= 0, xmax= 0.6, linestyle = \":\", color = \"black\")\n",
    "plt.text(58,95, '$E_0$', fontsize = 14, color = 'black')\n",
    "plt.text(0,80, '$r_0$', fontsize = 12, color = 'black')\n",
    "plt.text(56,-35, '$Y_0$', fontsize = 12, color = 'black')\n",
    "\n",
    "# Título, ejes y leyenda\n",
    "ax.set(title=\"Disminución de la inflación esperada\", xlabel= r'Y', ylabel= r'r')\n",
    "ax.legend()\n",
    "\n",
    "plt.show()"
   ]
  }
 ],
 "metadata": {
  "kernelspec": {
   "display_name": "Python 3 (ipykernel)",
   "language": "python",
   "name": "python3"
  },
  "language_info": {
   "codemirror_mode": {
    "name": "ipython",
    "version": 3
   },
   "file_extension": ".py",
   "mimetype": "text/x-python",
   "name": "python",
   "nbconvert_exporter": "python",
   "pygments_lexer": "ipython3",
   "version": "3.9.13"
  }
 },
 "nbformat": 4,
 "nbformat_minor": 5
}
