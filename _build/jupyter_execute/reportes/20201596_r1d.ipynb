{
 "cells": [
  {
   "cell_type": "code",
   "execution_count": 1,
   "id": "96261e78",
   "metadata": {},
   "outputs": [],
   "source": [
    "#20201596 María Fernanda Carrillo"
   ]
  },
  {
   "cell_type": "markdown",
   "id": "e54878f1",
   "metadata": {},
   "source": [
    "# I. REPORTE"
   ]
  },
  {
   "cell_type": "markdown",
   "id": "34026ba9",
   "metadata": {},
   "source": [
    "La pregunta de investigación sobre la cual Dancourt centra la investigación es la siguiente: cuáles fueron las causas y las consecuencias e impacto inflacionario en la economía peruana del proceso de ‘vacas flacas’ (y lo recesivo que resultó) que el Perú pasó entre los años 2013—15’; asimismo discute las medidas tomadas por el Estado y brinda asesoramiento sobre cuáles han de ser los próximos movimientos del futuro gobierno peruano con el fin de responder efectivamente a este fenómeno y las desastrosas consecuencias que tiene en el país. \n",
    "\n",
    "Una de las principales fortalezas que en el artículo se encuentran es que, a pesar de los variados conceptos, logra ser conciso en su explicación. Así a pesar de que el documento no sea tan extenso, resulta sencillo de comprender pese a que hay terminología e ideas propias de economía, hasta alguien que no posee tantos conocimientos previos en esa rama pueda comprender. \n",
    "El enfoque keynesiano con el que el autor aborda el tema, presta la debida atención al estado y al papel fundamental que este tiene para el poder revertir la balanza en cuanto a la estabilidad que se pierde con este proceso de ‘vacas flacas’ en el Perú. Ya que logra identificar acciones negligentes o deficientes del Estado, como lo sería la excesiva venta de los dólares estatales, la cual menciona el autor compromete la política monetaria futura; siendo más aún que se trata de un sistema bancario dolarizado, al cual le chocaría con más fuerza un choque externo adverso y derribaría rápidamente su estabilidad. Asimismo, es realista en tanto, identifica adecuadamente que uno de los mayores problemas con el cual nuestra economía lidia es la gran dependencia que tenemos en las exportaciones, ya que no solo son capaces de condicionar las épocas de equilibrio y relativa bonanza en nuestro país con cambios de tipo externo en el precio de los metales (lógica keynesiana del producto determinado por el mercado monetario externo). \n",
    "\n",
    "Asimismo, es realista en su desarrollo, pues uno de los problemas que reconoce que hace que los inversionistas se retengan de invertir (parte fundamental en el proceso de estimulación económica) son las metas irrealistas de inflación que el estado peruano ha fijado, los cuales al estar afuera del rango la mayoría del tiempo, no brinda seguridad a los posibles inversores. Algo que fácilmente podría ser resuelto tan solo brindando un nuevo margen más sensato y acorde a la realidad\n",
    "Aporta al enfoque keynesiano en tanto, al detallar lo particularmente importante que resulta el Estado para poder dinamizar la economía interna es que ha de considerársele un actor central. Más aún, siendo que en la sección final dedicada a la planificación de su intervención no solo la presume a un corto plazo como lo postula la teoría keynesiana. Lo que hace Dancourt en este reporte y el consiguiente aviso que da lo hace basándose en la idea de una intervención a largo plazo en la política peruana, ya que el proceso de diversificación que propone es uno que llevaría años, si no décadas (considerando lo lento que opera el Estado en nuestro país), para poder ser llevada a cabo satisfactoriamente. Así contribuyendo al enfoque de la teoría en general y a la mirada que se le da al papel del Estado en la economía, ya que luego de todos los argumentos y dinámicas que presenta a lo largo del artículo es que no podemos obviar su papel, ya que no solo mueve a la economía mediante la inserción de dinero, sino que son sus acciones referentes a las tasas de interés y las expectativas que tenga lo que atraen a los inversionistas y mueven aún más a la economía. \n",
    "\n",
    "Mas aún, su contribución, como muchas otras, no se limita tan solo al análisis del fenómeno y a una crítica hacia el aparato estatal. Sino que el aporte que realiza, un consejo de corte profesional, con un plan de acción y medidas específicas y perfectamente viables a aplicar en nuestro país muestra un genuino interés y preocupación por la situación. No solo instándoles a mejorar medidas económicas concretas, a corto plazo, sino que, como se mencionó antes, extrapola ese ámbito y busca ser de utilidad para un futuro incluso lejano. Además de, obviamente, el traer a la luz un tema que seguramente a muchos se les pasaba por alto, y es gracias al lenguaje sencillo y comprensible desarrollo que tiene el texto es que permite que este fenómeno se haga de conocimiento público, para que este lo tome en cuenta para opinar o tomar decisiones futuras, como el votar, respecto a lo que los dirigentes realizan en respuesta a estos, sin que se les pase nada por alto. Así como el advertir, debido a lo cíclico que es, de un posible retorno y urgencia de las acciones que se han de tomar para combatir este. \n",
    "Asimismo, lo estipulado respecto a las expectativas de la inflación impactan negativamente, y significativamente, es ratificado por el ‘paper’ del BCRP. Donde Rossini et alt. mencionan que, la formación de las expectativas de inflación se ven aún más contaminadas por una economía dolarizada, debido a la depreciación del tipo de cambio y a que son influidos por la evolución del tipo de cambio que manejan. Por ello es necesario, e incluso urgente, el estabilizar los precios para poder recuperar la confianza en la moneda peruana, lo que llevaría finalmente a una desdolarización que tanto nos hace falta. “Una adecuada postura de política monetaria puede permitir que las expectativas de inflación se mantengan ancladas en niveles cercanos a la meta de inflación” (Rossini et alt 2016: 12)\n",
    "\n",
    "(Fuente: https://www.bcrp.gob.pe/docs/Publicaciones/Revista-Estudios-Economicos/31/ree-31-rossini-vega-quispe-perez.pdf)\n"
   ]
  },
  {
   "cell_type": "markdown",
   "id": "ae90fef4",
   "metadata": {},
   "source": [
    "# II. CÓDIGO"
   ]
  },
  {
   "cell_type": "code",
   "execution_count": 2,
   "id": "15869636",
   "metadata": {},
   "outputs": [],
   "source": [
    "import ipywidgets as widgets\n",
    "import matplotlib.pyplot as plt\n",
    "import numpy as np\n",
    "import sympy as sy\n",
    "from sympy import *\n",
    "import pandas as pd\n",
    "from causalgraphicalmodels import CausalGraphicalModel"
   ]
  },
  {
   "cell_type": "markdown",
   "id": "bb53cd24",
   "metadata": {},
   "source": [
    "## 1. Función de Demanda de Consumo"
   ]
  },
  {
   "cell_type": "markdown",
   "id": "84cd5762",
   "metadata": {},
   "source": [
    "La función de Consumo es: $$ C = C_0 + bYd => C = C_0 + b(1-t)Y$$"
   ]
  },
  {
   "cell_type": "markdown",
   "id": "52e9274a",
   "metadata": {},
   "source": [
    "En esta función se representa como parte del ingreso se utiliza en los gastos de consumo. El consumo fijo representa al consumo autónomo, aquel que es fijo y no cambia, utilizado para servicios como la renta o la comida y la b representa a la propesión marginal a consumir, es decir aquella que es variable."
   ]
  },
  {
   "cell_type": "code",
   "execution_count": 3,
   "id": "0952d2c3",
   "metadata": {},
   "outputs": [],
   "source": [
    "# Parámetros\n",
    "\n",
    "Y_size = 100 \n",
    "\n",
    "Co = 35\n",
    "b = 0.8\n",
    "t = 0.3\n",
    "\n",
    "Y = np.arange(Y_size)\n",
    "\n",
    "# Ecuación de la curva del ingreso de equilibrio\n",
    "\n",
    "def C(Co, b, t, Y):\n",
    "    C = Co + b*(1-t)*Y\n",
    "    return C\n",
    "\n",
    "C = C(Co, b, t, Y)"
   ]
  },
  {
   "cell_type": "code",
   "execution_count": 4,
   "id": "a63623d3",
   "metadata": {},
   "outputs": [
    {
     "data": {
      "image/png": "[encoded data removed]",
      "text/plain": [
       "<Figure size 720x576 with 1 Axes>"
      ]
     },
     "metadata": {
      "filenames": {
       "image/png": "C:\\Users\\Jhon\\Documents\\work\\paper\\EP_Macroeco\\_build\\jupyter_execute\\reportes\\20201596_r1d_9_0.png"
      }
     },
     "output_type": "display_data"
    }
   ],
   "source": [
    "# Gráfico\n",
    "\n",
    "# Dimensiones del gráfico\n",
    "fig, ax = plt.subplots(figsize=(10, 8))\n",
    "\n",
    "custom_xlim = (0, 130)\n",
    "custom_ylim = (20, 130)\n",
    "\n",
    "plt.setp(ax, xlim=custom_xlim, ylim=custom_ylim)\n",
    "\n",
    "\n",
    "# Curvas a graficar\n",
    "ax.plot(Y, C, label = \"Consumo\", color = \"C1\") #Demanda agregada\n",
    "\n",
    "# Eliminar las cantidades de los ejes\n",
    "ax.yaxis.set_major_locator(plt.NullLocator())   \n",
    "ax.xaxis.set_major_locator(plt.NullLocator())\n",
    "\n",
    "# Texto agregado\n",
    "    # punto de equilibrio\n",
    "plt.text(80, 95, r'$PMgC=\\frac{\\Delta C}{\\Delta Y^d}=b=0.5$', fontsize = 13, color = 'black')\n",
    "\n",
    "\n",
    "# Título y leyenda\n",
    "ax.set(title=\"Función de demanda de Consumo\", xlabel= '$Y^d$', ylabel= 'C')\n",
    "ax.legend() #mostrar leyenda\n",
    "\n",
    "plt.show()"
   ]
  },
  {
   "cell_type": "markdown",
   "id": "4eda8f74",
   "metadata": {},
   "source": [
    "## 2. Función de Demanda de Inversión"
   ]
  },
  {
   "cell_type": "markdown",
   "id": "d1e12026",
   "metadata": {},
   "source": [
    "La función es: $$ I = I_0 - hr$$"
   ]
  },
  {
   "cell_type": "markdown",
   "id": "350c506f",
   "metadata": {},
   "source": [
    "En esta función se encuentra a la inversión autónoma (I0) como valor fijo, y el h que que representa la sensibilidad (que va en un rango de 0,1) que muestran los inversionistas ante la subida o bajada de la tasa de interés (r). En este sentido, la función nos permite entender como los gastos de inversión aumenta el stock de la economía, provenientes de los empresarios, y como las expectativas y especulaciones afectan el desarrollo y producción de la economía. Dicha inversión además se ve estimulada al ser menor la tasa de interés."
   ]
  },
  {
   "cell_type": "code",
   "execution_count": 5,
   "id": "8d03e27b",
   "metadata": {},
   "outputs": [
    {
     "data": {
      "text/plain": [
       "array([30. , 29.7, 29.4, 29.1, 28.8, 28.5, 28.2, 27.9, 27.6, 27.3, 27. ,\n",
       "       26.7, 26.4, 26.1, 25.8, 25.5, 25.2, 24.9, 24.6, 24.3, 24. , 23.7,\n",
       "       23.4, 23.1, 22.8, 22.5, 22.2, 21.9, 21.6, 21.3, 21. , 20.7, 20.4,\n",
       "       20.1, 19.8, 19.5, 19.2, 18.9, 18.6, 18.3, 18. , 17.7, 17.4, 17.1,\n",
       "       16.8, 16.5, 16.2, 15.9, 15.6, 15.3, 15. , 14.7, 14.4, 14.1, 13.8,\n",
       "       13.5, 13.2, 12.9, 12.6, 12.3, 12. , 11.7, 11.4, 11.1, 10.8, 10.5,\n",
       "       10.2,  9.9,  9.6,  9.3,  9. ,  8.7,  8.4,  8.1,  7.8,  7.5,  7.2,\n",
       "        6.9,  6.6,  6.3,  6. ,  5.7,  5.4,  5.1,  4.8,  4.5,  4.2,  3.9,\n",
       "        3.6,  3.3])"
      ]
     },
     "execution_count": 5,
     "metadata": {},
     "output_type": "execute_result"
    }
   ],
   "source": [
    "# Parámetros\n",
    "\n",
    "r_size = 90\n",
    "r = np.arange(r_size)\n",
    "r \n",
    "\n",
    "h = 0.3\n",
    "Io = 30\n",
    "\n",
    "\n",
    "\n",
    "# Ecuación -> I = Io - hr\n",
    "\n",
    "def F_DI(Io, h, r):\n",
    "    F_DI = Io - (h*r)\n",
    "    return F_DI\n",
    "\n",
    "F_DI = F_DI(Io, h, r)\n",
    "\n",
    "F_DI\n",
    " "
   ]
  },
  {
   "cell_type": "code",
   "execution_count": 6,
   "id": "c0eee760",
   "metadata": {},
   "outputs": [
    {
     "data": {
      "image/png": "[encoded data removed]",
      "text/plain": [
       "<Figure size 720x576 with 1 Axes>"
      ]
     },
     "metadata": {
      "filenames": {
       "image/png": "C:\\Users\\Jhon\\Documents\\work\\paper\\EP_Macroeco\\_build\\jupyter_execute\\reportes\\20201596_r1d_14_0.png"
      }
     },
     "output_type": "display_data"
    }
   ],
   "source": [
    "# Gráfico\n",
    "\n",
    "# Dimensiones del gráfico\n",
    "y_max = np.max(F_DI)\n",
    "fig, ax = plt.subplots(figsize=(10, 8))\n",
    "\n",
    "# Curvas a graficar\n",
    "ax.plot(r, F_DI, label = \"Inversion\", color = 'C2') #Demanda agregada\n",
    "ax.set(title=\"Función de Demanda de Inversion\", xlabel= r'r', ylabel= r'I')\n",
    "ax.legend() #mostrar leyenda\n",
    "\n",
    "plt.text(90,5,r'$I=I_0-hr$', fontsize=15, color = 'black')\n",
    "\n",
    "xline = (0, 110)\n",
    "yline = (-10, 40)\n",
    "plt.setp(ax, xlim=xline, ylim=yline)\n",
    "\n",
    "ax.xaxis.set_major_locator(plt.NullLocator())\n",
    "ax.yaxis.set_major_locator(plt.NullLocator())   "
   ]
  },
  {
   "cell_type": "markdown",
   "id": "5d61ab3e",
   "metadata": {},
   "source": [
    "## 3. ¿Cuáles son los supuestos del modelo Ingreso-Gasto Keynesiano?"
   ]
  },
  {
   "cell_type": "markdown",
   "id": "0d8c2a33",
   "metadata": {},
   "source": [
    "Los supuestos del modelo de ingreso-gasto keynesiano son 4: el nivel de precios debe ser fijo, el nivel producción se adapta a los cambios dados en la demanda agregada (es decir la oferta se adapta a la demanda), la tasa de interés está determinada exógenamente y además que este se trata de un modelo de corto plazo únicamente (Jimenez 2020: pp.52)."
   ]
  },
  {
   "cell_type": "markdown",
   "id": "fa73ee52",
   "metadata": {},
   "source": [
    "## 4. Encuentra el nivel de Ingreso de Equilibrio"
   ]
  },
  {
   "cell_type": "markdown",
   "id": "16d9ea5b",
   "metadata": {},
   "source": [
    "La ecuación de equilibrio para el Ingreso Agregado deriva de la condición de equilibrio donde el ingreso es igual a la demanda agregada: $DA = Y$. Sabemos que:\n",
    "\n",
    "$$ DA = C + I + G + X - M $$\n",
    "\n",
    "Donde:\n",
    "\n",
    "$$ C = C_0 + bY^d $$\n",
    "$$ I = I_0 - hr $$\n",
    "$$ G = G_0 $$\n",
    "$$ X = X_0 $$\n",
    "$$ M = mY^d $$\n",
    "\n",
    "$$ Y^d = 1 - t $$"
   ]
  },
  {
   "cell_type": "markdown",
   "id": "9df498ec",
   "metadata": {},
   "source": [
    "Entonces: \n",
    "\n",
    "$$ DA = C_0 + I_0 + G_0 + X_0 - hr + Y(b - m)(1 - t) $$\n",
    "\n",
    "Así que:\n",
    "\n",
    "$$ DA = α_0 + α_1Y $$\n",
    "\n",
    "Donde $ α_0 = (C_0 + I_0 + G_0 + X_0 -hr)$ es el intercepto y $ α_1 = (b - m)(1 - t) $ es la pendiente de la función\n"
   ]
  },
  {
   "cell_type": "markdown",
   "id": "6c81ea2c",
   "metadata": {},
   "source": [
    "Ahora, considerando la condición de equilibrio $Y = DA$, la ecuación del ingreso de equilibrio es:\n",
    "\n",
    "$$ Y = C_0 + bY^d + I_0 -hr + G_0 + X_0 - mY^d $$\n",
    "\n",
    "$$ Y = \\frac{1}{1 - (b - m)(1 - t)} (C_0 + I_0 + G_0 + X_0 - hr) $$\n",
    "\n",
    "Donde $\\frac{1}{1 - (b - m)(1 - t)}$ es el multiplicador keynesiano $(k)$."
   ]
  },
  {
   "cell_type": "markdown",
   "id": "20ea5d9f",
   "metadata": {},
   "source": [
    "- Gráfico con descripciones"
   ]
  },
  {
   "cell_type": "code",
   "execution_count": 7,
   "id": "6b006bb8",
   "metadata": {},
   "outputs": [],
   "source": [
    "# Parámetros\n",
    "\n",
    "Y_size = 100 \n",
    "\n",
    "Co = 35\n",
    "Io = 40\n",
    "Go = 70\n",
    "Xo = 2\n",
    "h = 0.7\n",
    "b = 0.8 # b > m\n",
    "m = 0.2\n",
    "t = 0.3\n",
    "r = 0.9\n",
    "\n",
    "Y = np.arange(Y_size)\n",
    "\n",
    "# Ecuación de la curva del ingreso de equilibrio\n",
    "\n",
    "def DA_K(Co, Io, Go, Xo, h, r, b, m, t, Y):\n",
    "    DA_K = (Co + Io + Go + Xo - h*r) + ((b - m)*(1 - t)*Y)\n",
    "    return DA_K\n",
    "\n",
    "DA_IS_K = DA_K(Co, Io, Go, Xo, h, r, b, m, t, Y)"
   ]
  },
  {
   "cell_type": "code",
   "execution_count": 8,
   "id": "ffc8c2da",
   "metadata": {},
   "outputs": [],
   "source": [
    "# Recta de 45°\n",
    "\n",
    "a = 2.5 \n",
    "\n",
    "def L_45(a, Y):\n",
    "    L_45 = a*Y\n",
    "    return L_45\n",
    "\n",
    "L_45 = L_45(a, Y)"
   ]
  },
  {
   "cell_type": "code",
   "execution_count": 9,
   "id": "8db0b54f",
   "metadata": {},
   "outputs": [
    {
     "data": {
      "image/png": "[encoded data removed]",
      "text/plain": [
       "<Figure size 720x576 with 1 Axes>"
      ]
     },
     "metadata": {
      "filenames": {
       "image/png": "C:\\Users\\Jhon\\Documents\\work\\paper\\EP_Macroeco\\_build\\jupyter_execute\\reportes\\20201596_r1d_24_0.png"
      }
     },
     "output_type": "display_data"
    }
   ],
   "source": [
    "# Gráfico\n",
    "\n",
    "# Dimensiones del gráfico\n",
    "y_max = np.max(DA_IS_K)\n",
    "fig, ax = plt.subplots(figsize=(10, 8))\n",
    "\n",
    "# Curvas a graficar\n",
    "ax.plot(DA_IS_K, label = \"DA\", color = \"#957DAD\") #Demanda agregada\n",
    "ax.plot(L_45, color = \"#404040\") #Línea de 45º\n",
    "\n",
    "# Eliminar las cantidades de los ejes\n",
    "ax.yaxis.set_major_locator(plt.NullLocator())   \n",
    "ax.xaxis.set_major_locator(plt.NullLocator())\n",
    "\n",
    "# Líneas punteadas punto de equilibrio\n",
    "plt.axvline(x=70.5,  ymin= 0, ymax= 0.69, linestyle = \":\", color = \"grey\")\n",
    "plt.axhline(y=176, xmin= 0, xmax= 0.7, linestyle = \":\", color = \"grey\")\n",
    "\n",
    "plt.axvline(x=70.5,  ymin= 0, ymax= 0.69, linestyle = \":\", color = \"grey\")\n",
    "plt.axhline(y=145, xmin= 0, xmax= 1, linestyle = \":\", color = \"grey\")\n",
    "\n",
    "# Texto agregado\n",
    "    # punto de equilibrio\n",
    "plt.text(0, 180, '$DA^e$', fontsize = 11.5, color = 'black')\n",
    "plt.text(72, 0, '$Y^e$', fontsize = 12, color = 'black')\n",
    "plt.text(0, 152, '$α_o$', fontsize = 15, color = 'black')\n",
    "    # línea 45º\n",
    "plt.text(6, 4, '$45°$', fontsize = 11.5, color = 'black')\n",
    "plt.text(2.5, -3, '$◝$', fontsize = 30, color = '#404040')\n",
    "    # ecuaciones\n",
    "plt.text(87, 203, '$DA = α_0 + α_1 Y$', fontsize = 11.5, color = '#957DAD')\n",
    "plt.text(80, 165, '$α_1 = (b-m)(1-t)$', fontsize = 11.5, color = 'black')\n",
    "plt.text(73, 125, '$α_0 = C_o + I_o + G_o + X_o - hr$', fontsize = 11.5, color = 'black')\n",
    "\n",
    "plt.text(92, 192, '$↓$', fontsize = 13, color = 'black')\n",
    "plt.text(85, 135, '$↑$', fontsize = 13, color = 'black')\n",
    "\n",
    "# Título y leyenda\n",
    "ax.set(title=\"El ingreso de Equilibrio a Corto Plazo\", xlabel= r'Y', ylabel= r'DA')\n",
    "ax.legend() #mostrar leyenda\n",
    "\n",
    "plt.show()"
   ]
  },
  {
   "cell_type": "markdown",
   "id": "80065919",
   "metadata": {},
   "source": [
    "## 5. Estática Comparativa en el modelo de Ingreso-Gasto Keynesino"
   ]
  },
  {
   "cell_type": "markdown",
   "id": "5ca8eb27",
   "metadata": {},
   "source": [
    "### 5.1 Política Fiscal Expansiva con aumento del Gasto del Gobierno"
   ]
  },
  {
   "cell_type": "markdown",
   "id": "e0d6b9d0",
   "metadata": {},
   "source": [
    "### Intuicion: "
   ]
  },
  {
   "cell_type": "markdown",
   "id": "f1420803",
   "metadata": {},
   "source": [
    "$$ Go↑ → DA↑ → DA > Y → Y↑ $$"
   ]
  },
  {
   "cell_type": "markdown",
   "id": "1d3008a6",
   "metadata": {},
   "source": [
    "Se entiende de que si hay una aumento del gasto público esto supondrá un aumento de la Demanda Agregada (DA), por la regla keynesiana. Pero entonces la DA será mayor al nivel de equilibrio. Para ser equivalente entonces el equilibrio el nivel de producción tiene que aumentar también. Por lo cual podemos afirmar que el aumento del gasto público genera inevitablemente un crecimiento en el nivel de producción"
   ]
  },
  {
   "cell_type": "markdown",
   "id": "e142f7ad",
   "metadata": {},
   "source": [
    "### Matemáticamente: $∆Go > 0  →  ¿∆Y?$"
   ]
  },
  {
   "cell_type": "markdown",
   "id": "cbd73b35",
   "metadata": {},
   "source": [
    "Sabiendo que: \n",
    "\n",
    "$$ Y = \\frac{1}{1 - (b - m)(1 - t)} (C_0 + I_0 + G_0 + X_0 - hr) $$\n",
    "\n",
    "o, considerando el multiplicador keynesiano, $ k > 0 $:\n",
    "\n",
    "$$ Y = k (C_0 + I_0 + G_0 + X_0 - hr) $$\n",
    "\n",
    "\n",
    "$$ ∆Y = k (∆C_0 + ∆I_0 + ∆G_0 + ∆X_0 - ∆hr) $$"
   ]
  },
  {
   "cell_type": "markdown",
   "id": "7eb29f11",
   "metadata": {},
   "source": [
    "Pero, si no ha habido cambios en $C_0$, $I_0$, $X_0$, $h$ ni $r$, entonces: \n",
    "\n",
    "$$∆C_0 = ∆I_0 = ∆X_0 = ∆h = ∆r = 0$$\n",
    "\n",
    "$$ ∆Y = k (∆G_0) $$"
   ]
  },
  {
   "cell_type": "markdown",
   "id": "4468c1bf",
   "metadata": {},
   "source": [
    "Sabiendo que $∆G_0 > 0 $ y que $k > 0$, la multiplicación de un número psitivo con un positivo dará otro positivo:\n",
    "\n",
    "$$ ∆Y = (+)(+) $$\n",
    "$$ ∆Y > 0 $$"
   ]
  },
  {
   "cell_type": "markdown",
   "id": "d223922d",
   "metadata": {},
   "source": [
    "### Gráfico"
   ]
  },
  {
   "cell_type": "code",
   "execution_count": 10,
   "id": "b69f87d0",
   "metadata": {},
   "outputs": [],
   "source": [
    "#--------------------------------------------------\n",
    "# Curva de ingreso de equilibrio ORIGINAL\n",
    "\n",
    "    # Parámetros\n",
    "Y_size = 100 \n",
    "\n",
    "Co = 35\n",
    "Io = 40\n",
    "Go = 70\n",
    "Xo = 2\n",
    "h = 0.7\n",
    "b = 0.8\n",
    "m = 0.2\n",
    "t = 0.3\n",
    "r = 0.9\n",
    "\n",
    "Y = np.arange(Y_size)\n",
    "\n",
    "    # Ecuación \n",
    "def DA_K(Co, Io, Go, Xo, h, r, b, m, t, Y):\n",
    "    DA_K = (Co + Io + Go + Xo - h*r) + ((b - m)*(1 - t)*Y)\n",
    "    return DA_K\n",
    "\n",
    "DA_IS_K = DA_K(Co, Io, Go, Xo, h, r, b, m, t, Y)\n",
    "\n",
    "\n",
    "#--------------------------------------------------\n",
    "# NUEVA curva de ingreso de equilibrio\n",
    "\n",
    "    # Definir SOLO el parámetro cambiado\n",
    "Go = 100\n",
    "\n",
    "# Generar la ecuación con el nuevo parámetro\n",
    "def DA_K(Co, Io, Go, Xo, h, r, b, m, t, Y):\n",
    "    DA_K = (Co + Io + Go + Xo - h*r) + ((b - m)*(1 - t)*Y)\n",
    "    return DA_K\n",
    "\n",
    "DA_G = DA_K(Co, Io, Go, Xo, h, r, b, m, t, Y)"
   ]
  },
  {
   "cell_type": "code",
   "execution_count": 11,
   "id": "1923c16b",
   "metadata": {},
   "outputs": [
    {
     "data": {
      "text/plain": [
       "(175.9254807692308, 70.37019230769232)"
      ]
     },
     "execution_count": 11,
     "metadata": {},
     "output_type": "execute_result"
    }
   ],
   "source": [
    "# líneas punteadas autómaticas\n",
    "\n",
    "    # definir la función line_intersection\n",
    "def line_intersection(line1, line2):\n",
    "    xdiff = (line1[0][0] - line1[1][0], line2[0][0] - line2[1][0])\n",
    "    ydiff = (line1[0][1] - line1[1][1], line2[0][1] - line2[1][1])\n",
    "\n",
    "    def det(a, b):\n",
    "        return a[0] * b[1] - a[1] * b[0]\n",
    "\n",
    "    div = det(xdiff, ydiff)\n",
    "    if div == 0:\n",
    "       raise Exception('lines do not intersect')\n",
    "\n",
    "    d = (det(*line1), det(*line2))\n",
    "    x = det(d, xdiff) / div\n",
    "    y = det(d, ydiff) / div\n",
    "    return x, y\n",
    "\n",
    "    # coordenadas de las curvas (x,y)\n",
    "A = [DA_IS_K[0], Y[0]] # DA, coordenada inicio\n",
    "B = [DA_IS_K[-1], Y[-1]] # DA, coordenada fin\n",
    "\n",
    "C = [L_45[0], Y[0]] # L_45, coordenada inicio\n",
    "D = [L_45[-1], Y[-1]] # L_45, coordenada fin\n",
    "\n",
    "    # creación de intersección\n",
    "\n",
    "intersec = line_intersection((A, B), (C, D))\n",
    "intersec # (y,x)"
   ]
  },
  {
   "cell_type": "code",
   "execution_count": 12,
   "id": "551b0b86",
   "metadata": {},
   "outputs": [
    {
     "data": {
      "text/plain": [
       "(211.9831730769231, 84.79326923076924)"
      ]
     },
     "execution_count": 12,
     "metadata": {},
     "output_type": "execute_result"
    }
   ],
   "source": [
    "    # coordenadas de las curvas (x,y)\n",
    "A = [DA_G[0], Y[0]] # DA, coordenada inicio\n",
    "B = [DA_G[-1], Y[-1]] # DA, coordenada fin\n",
    "\n",
    "C = [L_45[0], Y[0]] # L_45, coordenada inicio\n",
    "D = [L_45[-1], Y[-1]] # L_45, coordenada fin\n",
    "\n",
    "    # creación de intersección\n",
    "\n",
    "intersec_G = line_intersection((A, B), (C, D))\n",
    "intersec_G # (y,x)"
   ]
  },
  {
   "cell_type": "code",
   "execution_count": 13,
   "id": "d2451a6c",
   "metadata": {},
   "outputs": [
    {
     "data": {
      "image/png": "[encoded data removed]",
      "text/plain": [
       "<Figure size 720x576 with 1 Axes>"
      ]
     },
     "metadata": {
      "filenames": {
       "image/png": "C:\\Users\\Jhon\\Documents\\work\\paper\\EP_Macroeco\\_build\\jupyter_execute\\reportes\\20201596_r1d_38_0.png"
      },
      "needs_background": "light"
     },
     "output_type": "display_data"
    }
   ],
   "source": [
    "# Gráfico\n",
    "y_max = np.max(DA_IS_K)\n",
    "fig, ax = plt.subplots(figsize=(10, 8))\n",
    "\n",
    "\n",
    "# Curvas a graficar\n",
    "ax.plot(Y, DA_IS_K, label = \"DA^e\", color = \"#7B60BD\") #curva ORIGINAL\n",
    "ax.plot(Y, DA_G, label = \"DA_G\", color = \"#CB5FA6\", linestyle = 'dashed') #NUEVA curva\n",
    "ax.plot(Y, L_45, color = \"#404040\") #línea de 45º\n",
    "\n",
    "# Lineas punteadas\n",
    "plt.axhline(y=intersec[0], xmin= 0, xmax= 0.69, linestyle = \":\", color = \"grey\")\n",
    "plt.axvline(x=intersec[1], ymin= 0, ymax= 0.69, linestyle = \":\", color = \"grey\")\n",
    "\n",
    "plt.axhline(y=intersec_G[0], xmin= 0, xmax= 0.82, linestyle = \":\", color = \"grey\")\n",
    "plt.axvline(x=intersec_G[1], ymin= 0, ymax= 0.82, linestyle = \":\", color = \"grey\")\n",
    "\n",
    "\n",
    "# Texto agregado\n",
    "plt.text(0, 135, '$DA^e$', fontsize = 11.5, color = 'black')\n",
    "plt.text(0, 182, '$DA_G$', fontsize = 11.5, color = 'black')\n",
    "plt.text(6, 4, '$45°$', fontsize = 11.5, color = 'black')\n",
    "plt.text(2.5, -3, '$◝$', fontsize = 30, color = '#404040')\n",
    "plt.text(72, 0, '$Y^e$', fontsize = 12, color = 'black')\n",
    "plt.text(87, 0, '$Y_G$', fontsize = 12, color = 'black')\n",
    "plt.text(76, 45, '$→$', fontsize = 18, color = 'grey')\n",
    "plt.text(20, 165, '$↑$', fontsize = 18, color = 'grey')\n",
    "\n",
    "# Título y leyenda\n",
    "ax.set(title = \"Incremento del Gasto del Gobierno $(G_0)$\", xlabel = r'Y', ylabel = r'DA')\n",
    "ax.legend()\n",
    "\n",
    "plt.show()"
   ]
  },
  {
   "cell_type": "markdown",
   "id": "211761c4",
   "metadata": {},
   "source": [
    "### 5.2 Política Fiscal Expansiva con una reducción de la Tasa de Tributación"
   ]
  },
  {
   "cell_type": "markdown",
   "id": "9cbd7dee",
   "metadata": {},
   "source": [
    "### Intuición:"
   ]
  },
  {
   "cell_type": "markdown",
   "id": "74d1485a",
   "metadata": {},
   "source": [
    "$$ t↓ → Co↑ → DA↑ → DA > Y → Y↑ $$\n",
    "$$ t↓ → M↑ → DA↓ → DA < Y → Y↓ $$"
   ]
  },
  {
   "cell_type": "markdown",
   "id": "a8d7a6c8",
   "metadata": {},
   "source": [
    "Cuando la tasa de interés disminuye, el consumo fijo aumenta, así produce que la demanda agregada también lo haga el nivel de producción (pues a mayor cantidad de dinero que haya, la gente se motiva a consumir más y por tanto hay mayor oferta y por tanto mayor nivel de producción. \n",
    "No obstante hay otro proceso que ocurre al mismo tiempo, cuando la tasa disminuye, pues hace que las importaciones aumenten, lo que a su vez baja la demanda agregada. Ello hace que sea menor el nivel de producción y baje irremediablemente, lo que a su vez, impacta mucho más en la economía del país en cuestión."
   ]
  },
  {
   "cell_type": "markdown",
   "id": "bbe82ec6",
   "metadata": {},
   "source": [
    "### Matemáticamente: $∆t < 0  →  ¿∆Y?$"
   ]
  },
  {
   "cell_type": "code",
   "execution_count": 14,
   "id": "20b4dbbc",
   "metadata": {},
   "outputs": [
    {
     "data": {
      "text/latex": [
       "$\\displaystyle \\frac{\\left(- b + m\\right) \\left(Co + Go + Io + Xo - h r\\right)}{\\left(- \\left(1 - t\\right) \\left(b - m\\right) + 1\\right)^{2}}$"
      ],
      "text/plain": [
       "(-b + m)*(Co + Go + Io + Xo - h*r)/(-(1 - t)*(b - m) + 1)**2"
      ]
     },
     "execution_count": 14,
     "metadata": {},
     "output_type": "execute_result"
    }
   ],
   "source": [
    "Co, Io, Go, Xo, h, r, b, m, t = symbols('Co Io Go Xo h r b m t')\n",
    "\n",
    "f = (Co + Io + Go + Xo - h*r)/(1-(b-m)*(1-t))\n",
    "\n",
    "\n",
    "df_t = diff(f, t)\n",
    "df_t #∆Y/∆t"
   ]
  },
  {
   "cell_type": "markdown",
   "id": "94dca6f1",
   "metadata": {},
   "source": [
    "Considernado el diferencial de $∆t$:\n",
    "\n",
    "$$ \\frac{∆Y}{∆t} = \\frac{(m-b)(Co + Go + Io + Xo - hr)}{(1-(1-t)(b-m)+1)^2} $$\n",
    "\n",
    "- Sabiendo que b > m, entonces $(m-b) < 0$\n",
    "- Los componentes del intercepto no cambian: $∆C_0 = ∆I_0 = ∆X_0 = ∆h = ∆r = 0$\n",
    "- Cualquier número elevado al cuadrado será positivo: $ (1-(1-t)(b-m)+1)^2 > 0 $\n",
    "\n",
    "Entonces:\n",
    "\n",
    "$$ \\frac{∆Y}{∆t} = \\frac{(-)}{(+)} $$\n",
    "\n",
    "Dado que $∆t < 0$, la división de dos positivos da otro positivo:\n",
    "\n",
    "$$ \\frac{∆Y}{(-)} = \\frac{(-)}{(+)} $$\n",
    "\n",
    "$$ ∆Y = \\frac{(-)(-)}{(+)} $$\n",
    "\n",
    "$$ ∆Y > 0 $$\n"
   ]
  },
  {
   "cell_type": "markdown",
   "id": "9fb2c720",
   "metadata": {},
   "source": [
    "### Gráfico:"
   ]
  },
  {
   "cell_type": "code",
   "execution_count": 15,
   "id": "d29253e3",
   "metadata": {},
   "outputs": [],
   "source": [
    "##--------------------------------------------------\n",
    "# Curva de ingreso de equilibrio ORIGINAL\n",
    "\n",
    "    # Parámetros\n",
    "Y_size = 100 \n",
    "\n",
    "Co = 35\n",
    "Io = 40\n",
    "Go = 70\n",
    "Xo = 2\n",
    "h = 0.7\n",
    "b = 0.8\n",
    "m = 0.2\n",
    "t = 0.3 #tasa de tributación\n",
    "r = 0.9\n",
    "\n",
    "Y = np.arange(Y_size)\n",
    "\n",
    "    # Ecuación \n",
    "def DA_K(Co, Io, Go, Xo, h, r, b, m, t, Y):\n",
    "    DA_K = (Co + Io + Go + Xo - h*r) + ((b - m)*(1 - t)*Y)\n",
    "    return DA_K\n",
    "\n",
    "DA_IS_K = DA_K(Co, Io, Go, Xo, h, r, b, m, t, Y)\n",
    "\n",
    "\n",
    "#--------------------------------------------------\n",
    "# NUEVA curva de ingreso de equilibrio\n",
    "\n",
    "    # Definir SOLO el parámetro cambiado\n",
    "t = 0.01\n",
    "\n",
    "# Generar la ecuación con el nuevo parámetros\n",
    "def DA_K(Co, Io, Go, Xo, h, r, b, m, t, Y):\n",
    "    DA_K = (Co + Io + Go + Xo - h*r) + ((b - m)*(1 - t)*Y)\n",
    "    return DA_K\n",
    "\n",
    "DA_t = DA_K(Co, Io, Go, Xo, h, r, b, m, t, Y)"
   ]
  },
  {
   "cell_type": "code",
   "execution_count": 16,
   "id": "d164eec9",
   "metadata": {},
   "outputs": [
    {
     "data": {
      "image/png": "[encoded data removed]",
      "text/plain": [
       "<Figure size 720x576 with 1 Axes>"
      ]
     },
     "metadata": {
      "filenames": {
       "image/png": "C:\\Users\\Jhon\\Documents\\work\\paper\\EP_Macroeco\\_build\\jupyter_execute\\reportes\\20201596_r1d_48_0.png"
      },
      "needs_background": "light"
     },
     "output_type": "display_data"
    }
   ],
   "source": [
    "# Gráfico\n",
    "y_max = np.max(DA_IS_K)\n",
    "fig, ax = plt.subplots(figsize=(10, 8))\n",
    "\n",
    "\n",
    "# Curvas a graficar\n",
    "ax.plot(Y, DA_IS_K, label = \"DA\", color = \"#D669AA\") #curva ORIGINAL\n",
    "ax.plot(Y, DA_t, label = \"DA_t\", color = \"#F0A3DA\", linestyle = 'dashed') #NUEVA curva\n",
    "ax.plot(Y, L_45, color = \"#404040\") #línea de 45º\n",
    "\n",
    "# Lineas punteadas\n",
    "plt.axvline(x = 70.5, ymin= 0, ymax = 0.69, linestyle = \":\", color = \"grey\")\n",
    "plt.axhline(y = 176, xmin= 0, xmax = 0.7, linestyle = \":\", color = \"grey\")\n",
    "plt.axvline(x = 77,  ymin= 0, ymax = 0.75, linestyle = \":\", color = \"grey\")\n",
    "plt.axhline(y = 192, xmin= 0, xmax = 0.75, linestyle = \":\", color = \"grey\")\n",
    "\n",
    "# Texto agregado\n",
    "plt.text(0, 180, '$DA^e$', fontsize = 11.5, color = 'black')\n",
    "plt.text(0, 200, '$DA_t$', fontsize = 11.5, color = 'black')\n",
    "plt.text(6, 4, '$45°$', fontsize = 11.5, color = 'black')\n",
    "plt.text(2.5, -3, '$◝$', fontsize = 30, color = '#404040')\n",
    "plt.text(72, 0, '$Y^e$', fontsize = 12, color = 'black')\n",
    "plt.text(80, 0, '$Y_t$', fontsize = 12, color = 'black')\n",
    "plt.text(72, 45, '$→$', fontsize = 18, color = 'black')\n",
    "plt.text(20, 180, '$↑$', fontsize = 18, color = 'black')\n",
    "\n",
    "# Título y leyenda\n",
    "ax.set(title = \"Reducción de la Tasa de Tributación\", xlabel = r'Y', ylabel = r'DA')\n",
    "ax.legend()\n",
    "\n",
    "plt.show()"
   ]
  },
  {
   "cell_type": "markdown",
   "id": "831634f3",
   "metadata": {},
   "source": [
    "## 6 Estática Comparativa en el modelo de Ingreso-Gasto Keynesiano con Regla Contracíclica"
   ]
  },
  {
   "cell_type": "markdown",
   "id": "cb4e3a3c",
   "metadata": {},
   "source": [
    "### 6.1 Función DA y Recta de 45°"
   ]
  },
  {
   "cell_type": "markdown",
   "id": "6a6f0e15",
   "metadata": {},
   "source": [
    "Debido a que el parámetro 'g' afecta a la función de demanda agregada, tanto su pendiente como el valor multiplicador, van a cambiar inevitablemente en el modelo de Regla Contracíclica: \n",
    "\n",
    "De: $$ DA = C + I + G + X - M$$\n"
   ]
  },
  {
   "cell_type": "markdown",
   "id": "ba1943cf",
   "metadata": {},
   "source": [
    "A:\n",
    "   $$DA = (Co + Io + Go + Xo - h*r) + [((b - m)*(1 - t)-g)]*Y$$"
   ]
  },
  {
   "cell_type": "code",
   "execution_count": 17,
   "id": "631f00ff",
   "metadata": {},
   "outputs": [],
   "source": [
    "# Parámetros\n",
    "\n",
    "Y_size = 100 \n",
    "\n",
    "Co = 35\n",
    "Io = 40\n",
    "Go = 70\n",
    "g = 0.2 #solo valores entre 0-0.4\n",
    "Xo = 2\n",
    "h = 0.7\n",
    "b = 0.8 # b > m\n",
    "m = 0.2\n",
    "t = 0.3\n",
    "r = 0.9\n",
    "\n",
    "Y = np.arange(Y_size)\n",
    "\n",
    "# Ecuación de la curva del ingreso de equilibrio\n",
    "\n",
    "def DA_C(Co, Io, Go, Xo, h, r, b, m, t, g, Y):\n",
    "    DA_C = (Co  + Io + Go + Xo - h*r) + [(b-m)*(1-t)-g]*Y\n",
    "    return DA_C\n",
    "\n",
    "DA_Cont = DA_C(Co, Io, Go, Xo, h, r, b, m, t, g, Y)"
   ]
  },
  {
   "cell_type": "code",
   "execution_count": 18,
   "id": "95f4119d",
   "metadata": {},
   "outputs": [
    {
     "data": {
      "image/png": "[encoded data removed]",
      "text/plain": [
       "<Figure size 720x576 with 1 Axes>"
      ]
     },
     "metadata": {
      "filenames": {
       "image/png": "C:\\Users\\Jhon\\Documents\\work\\paper\\EP_Macroeco\\_build\\jupyter_execute\\reportes\\20201596_r1d_54_0.png"
      }
     },
     "output_type": "display_data"
    }
   ],
   "source": [
    "# Gráfico\n",
    "\n",
    "# Dimensiones del gráfico\n",
    "y_max = np.max(DA_Cont)\n",
    "fig, ax = plt.subplots(figsize=(10, 8))\n",
    "\n",
    "# Curvas a graficar\n",
    "ax.plot(DA_Cont, label = \"DA\", color = \"#D40000\") #Demanda agregada\n",
    "ax.plot(L_45, color = \"#404040\") #Línea de 45º\n",
    "\n",
    "# Eliminar las cantidades de los ejes\n",
    "ax.yaxis.set_major_locator(plt.NullLocator())   \n",
    "ax.xaxis.set_major_locator(plt.NullLocator())\n",
    "\n",
    "# Líneas punteadas punto de equilibrio\n",
    "plt.axvline(x=64,  ymin= 0, ymax= 0.63, linestyle = \":\", color = \"grey\")\n",
    "plt.axhline(y=161, xmin= 0, xmax= 0.63, linestyle = \":\", color = \"grey\")\n",
    "plt.axhline(y=145, xmin= 0, xmax= 1, linestyle = \":\", color = \"grey\")\n",
    "\n",
    "# Texto agregado\n",
    "    # punto de equilibrio\n",
    "plt.text(0, 165, '$DA^e$', fontsize = 11.5, color = 'black')\n",
    "plt.text(65, 0, '$Y^e$', fontsize = 12, color = 'black')\n",
    "plt.text(0, 135, '$α_o$', fontsize = 15, color = 'black')\n",
    "    # línea 45º\n",
    "plt.text(6, 4, '$45°$', fontsize = 11.5, color = 'black')\n",
    "plt.text(2.5, -3, '$◝$', fontsize = 30, color = '#404040')\n",
    "    # ecuaciones\n",
    "plt.text(82, 185, '$DA = α_0 + α_1 Y$', fontsize = 11.5, color = 'black')\n",
    "plt.text(75, 151, '$α_1 = [(b-m)(1-t)-g]$', fontsize = 11.5, color = 'black')\n",
    "plt.text(73, 125, '$α_0 = C_o + I_o + G_o + X_o - hr$', fontsize = 11.5, color = 'black')\n",
    "\n",
    "plt.text(87, 175, '$↓$', fontsize = 13, color = 'black')\n",
    "plt.text(85, 135, '$↑$', fontsize = 13, color = 'black')\n",
    "\n",
    "# Título y leyenda\n",
    "ax.set(title=\"El ingreso de Equilibrio a Corto Plazo con regla contracíclica\", xlabel= r'Y', ylabel= r'DA')\n",
    "ax.legend() #mostrar leyenda\n",
    "\n",
    "plt.show()"
   ]
  },
  {
   "cell_type": "markdown",
   "id": "c848b247",
   "metadata": {},
   "source": [
    "### 6.2 Nivel de Ingreso de Equilibrio"
   ]
  },
  {
   "cell_type": "markdown",
   "id": "7324436a",
   "metadata": {},
   "source": [
    "La ecuación de equilibrio para el Ingreso se deriva de la condición de equilibrio donde el nivel de producción es igual a la Demanda Agregada: $DA = Y$:\n",
    "\n",
    "$$ DA = C + I + G + X - M $$\n",
    "\n",
    "Donde:\n",
    "\n",
    "$$ C = C_0 + bY^d $$\n",
    "$$ I = I_0 - hr $$\n",
    "$$ G = G_0 - gY $$\n",
    "$$ X = X_0 $$\n",
    "$$ M = mY^d $$\n",
    "\n",
    "$$ Y^d = 1 - t $$\n",
    "Entonces sabiendo que la demanda agregada bajo una política fiscal con regla contracíclia es: \n",
    "\n",
    "$$ DA = C_0 + I_0 + G_0 + X_0 - hr + ((b - m)(1 - t)-g)Y $$\n"
   ]
  },
  {
   "cell_type": "markdown",
   "id": "e4d84f5d",
   "metadata": {},
   "source": [
    "Considerando la condición de equilibrio $Y = DA$, la ecuación del ingreso de equilibrio es:\n",
    "\n",
    "$$ Y = C_0 + bY^d + I_0 -hr + G_0 + X_0 - mY^d $$\n",
    "\n",
    "$$ Y = \\frac{1}{1 - (b - m)(1 - t)+g} (C_0 + I_0 + G_0 + X_0 - hr) $$"
   ]
  },
  {
   "cell_type": "markdown",
   "id": "df91a7e2",
   "metadata": {},
   "source": [
    "### 6.3 Política Fiscal Expansiva con Aumento del Gasto del Gobierno"
   ]
  },
  {
   "cell_type": "markdown",
   "id": "1f898e6a",
   "metadata": {},
   "source": [
    "### Intuicion:"
   ]
  },
  {
   "cell_type": "markdown",
   "id": "cd404bee",
   "metadata": {},
   "source": [
    "$$ G↑ → (Go - gy) → Go↑ → DA↑ → DA > Y → Y↑ $$"
   ]
  },
  {
   "cell_type": "markdown",
   "id": "211a72d7",
   "metadata": {},
   "source": [
    "El \n"
   ]
  },
  {
   "cell_type": "markdown",
   "id": "2e3aac42",
   "metadata": {},
   "source": [
    "### Matemáticamente: $∆Go > 0  →  ¿∆Y?$"
   ]
  },
  {
   "cell_type": "markdown",
   "id": "fcd8da93",
   "metadata": {},
   "source": [
    "$$ Y = \\frac{1}{1 - (b - m)(1 - t)+g} (C_0 + I_0 + G_0 + X_0 - hr) $$\n",
    "\n",
    "o, considerando el multiplicador keynesiano, $ k > 0 $:\n",
    "\n",
    "$$ Y = k (C_0 + I_0 + G_0+ X_0 - hr) $$\n",
    "\n",
    "\n",
    "$$ ∆Y = k (∆C_0 + ∆I_0 + ∆G_0 + ∆X_0 - ∆hr) $$"
   ]
  },
  {
   "cell_type": "markdown",
   "id": "124b8c55",
   "metadata": {},
   "source": [
    "En un contexto de cambios nulos en $C_0$, $I_0$, $X_0$, $h$ ni $r$, entonces: \n",
    "\n",
    "$$∆C_0 = ∆I_0 = ∆X_0 = ∆h = ∆r = 0$$\n",
    "\n",
    "$$ ∆Y = k (∆G_0) $$"
   ]
  },
  {
   "cell_type": "markdown",
   "id": "74ca550f",
   "metadata": {},
   "source": [
    "Sabiendo que $∆G_0 > 0 $ y que $k > 0$, la multiplicación de un número positivo con un positivo dará otro positivo:\n",
    "\n",
    "$$ ∆Y = (+)(+) $$\n",
    "$$ ∆Y > 0 $$"
   ]
  },
  {
   "cell_type": "markdown",
   "id": "cda8a150",
   "metadata": {},
   "source": [
    "### Gráficos"
   ]
  },
  {
   "cell_type": "code",
   "execution_count": 19,
   "id": "98e42f52",
   "metadata": {},
   "outputs": [],
   "source": [
    "# Parámetros\n",
    "\n",
    "Y_size = 100 \n",
    "\n",
    "Co = 35\n",
    "Io = 40\n",
    "Go = 70\n",
    "Xo = 2\n",
    "h = 0.7\n",
    "b = 0.8\n",
    "m = 0.2\n",
    "t = 0.3\n",
    "r = 0.9\n",
    "g = 0.2\n",
    "\n",
    "Y = np.arange(Y_size)\n",
    "\n",
    "# Ecuación de la curva del ingreso de equilibrio\n",
    "\n",
    "def DA_C(Co, Io, Go, Xo, h, r, b, m, t, g, Y):\n",
    "    DA_C = (Co  + Io + Go + Xo - h*r) + [(b-m)*(1-t)-g]*Y\n",
    "    return DA_C\n",
    "\n",
    "DA_Cont = DA_C(Co, Io, Go, Xo, h, r, b, m, t, g, Y)\n",
    "\n",
    "\n",
    "# Nueva curva\n",
    "\n",
    "Go = 100\n",
    "\n",
    "def DA_C(Co, Io, Go, Xo, h, r, b, m, t, g, Y):\n",
    "    DA_C = (Co  + Io + Go + Xo - h*r) + [(b-m)*(1-t)-g]*Y\n",
    "    return DA_C\n",
    "\n",
    "DA_C_G = DA_C(Co, Io, Go, Xo, h, r, b, m, t, g, Y)"
   ]
  },
  {
   "cell_type": "code",
   "execution_count": 20,
   "id": "d65265ef",
   "metadata": {},
   "outputs": [
    {
     "data": {
      "text/plain": [
       "(193.38815789473685, 77.35526315789474)"
      ]
     },
     "execution_count": 20,
     "metadata": {},
     "output_type": "execute_result"
    }
   ],
   "source": [
    "# líneas punteadas autómaticas\n",
    "\n",
    "    # definir la función line_intersection\n",
    "def line_intersection(line1, line2):\n",
    "    xdiff = (line1[0][0] - line1[1][0], line2[0][0] - line2[1][0])\n",
    "    ydiff = (line1[0][1] - line1[1][1], line2[0][1] - line2[1][1])\n",
    "\n",
    "    def det(a, b):\n",
    "        return a[0] * b[1] - a[1] * b[0]\n",
    "\n",
    "    div = det(xdiff, ydiff)\n",
    "    if div == 0:\n",
    "       raise Exception('lines do not intersect')\n",
    "\n",
    "    d = (det(*line1), det(*line2))\n",
    "    x = det(d, xdiff) / div\n",
    "    y = det(d, ydiff) / div\n",
    "    return x, y\n",
    "\n",
    "    # coordenadas de las curvas (x,y)\n",
    "A = [DA_Cont[0], Y[0]] # DA, coordenada inicio\n",
    "B = [DA_Cont[-1], Y[-1]] # DA, coordenada fin\n",
    "\n",
    "C = [L_45[0], Y[0]] # L_45, coordenada inicio\n",
    "D = [L_45[-1], Y[-1]] # L_45, coordenada fin\n",
    "\n",
    "    # creación de intersección\n",
    "\n",
    "intersec = line_intersection((A, B), (C, D))\n",
    "intersec # (y,x)\n",
    "\n",
    "    # coordenadas de las curvas (x,y)\n",
    "A = [DA_C_G[0], Y[0]] # DA, coordenada inicio\n",
    "B = [DA_C_G[-1], Y[-1]] # DA, coordenada fin\n",
    "\n",
    "C = [L_45[0], Y[0]] # L_45, coordenada inicio\n",
    "D = [L_45[-1], Y[-1]] # L_45, coordenada fin\n",
    "\n",
    "    # creación de intersección\n",
    "\n",
    "intersec_G = line_intersection((A, B), (C, D))\n",
    "intersec_G # (y,x)\n"
   ]
  },
  {
   "cell_type": "code",
   "execution_count": 21,
   "id": "899adb5d",
   "metadata": {},
   "outputs": [
    {
     "data": {
      "image/png": "[encoded data removed]",
      "text/plain": [
       "<Figure size 720x576 with 1 Axes>"
      ]
     },
     "metadata": {
      "filenames": {
       "image/png": "C:\\Users\\Jhon\\Documents\\work\\paper\\EP_Macroeco\\_build\\jupyter_execute\\reportes\\20201596_r1d_69_0.png"
      },
      "needs_background": "light"
     },
     "output_type": "display_data"
    }
   ],
   "source": [
    "# Gráfico\n",
    "y_max = np.max(DA_Cont)\n",
    "fig, ax = plt.subplots(figsize=(10, 8))\n",
    "\n",
    "\n",
    "# Curvas a graficar\n",
    "ax.plot(DA_Cont, label = \"DA\", color = \"#FF2E6D\") #curva ORIGINAL\n",
    "ax.plot(DA_C_G, label = \"DA_G\", color = \"#FFD21F\", linestyle = 'dashed') #NUEVA curva\n",
    "ax.plot(L_45, color = \"#404040\") #línea de 45º\n",
    "\n",
    "# Lineas punteadas\n",
    "plt.axhline(y=intersec[0], xmin= 0, xmax= 0.64, linestyle = \":\", color = \"grey\")\n",
    "plt.axvline(x=intersec[1], ymin= 0, ymax= 0.64, linestyle = \":\", color = \"grey\")\n",
    "\n",
    "plt.axhline(y=intersec_G[0], xmin= 0, xmax= 0.76, linestyle = \":\", color = \"grey\")\n",
    "plt.axvline(x=intersec_G[1], ymin= 0, ymax= 0.76, linestyle = \":\", color = \"grey\")\n",
    "\n",
    "\n",
    "# Texto agregado\n",
    "plt.text(0, 135, '$DA^e$', fontsize = 11.5, color = 'black')\n",
    "plt.text(0, 182, '$DA_G$', fontsize = 11.5, color = 'black')\n",
    "plt.text(6, 4, '$45°$', fontsize = 11.5, color = 'black')\n",
    "plt.text(2.5, -3, '$◝$', fontsize = 30, color = '#404040')\n",
    "plt.text(60, 0, '$Y^e$', fontsize = 12, color = 'black')\n",
    "plt.text(72, 0, '$Y_G$', fontsize = 12, color = 'black')\n",
    "plt.text(70, 45, '$→$', fontsize = 18, color = 'grey')\n",
    "plt.text(20, 165, '$↑$', fontsize = 18, color = 'grey')\n",
    "\n",
    "# Título y leyenda\n",
    "ax.set(title = \"Incremento del Gasto del Gobierno $(G_0)$\", xlabel = r'Y', ylabel = r'DA')\n",
    "ax.legend()\n",
    "\n",
    "plt.show()"
   ]
  },
  {
   "cell_type": "markdown",
   "id": "e94736ad",
   "metadata": {},
   "source": [
    "### 6.4 ¿Cuál es el papel que juega el parámetro 'g' en el multiplicador keynesiano?"
   ]
  },
  {
   "cell_type": "markdown",
   "id": "64652dc0",
   "metadata": {},
   "source": [
    "En las ecuaciones mostradas anteriormente podemos ver que aparece el parámetro 'g'. En el primer caso es que hace que la magnitud que la pendiente maneja se reduzca de la función que la demanda agregada ejerce; en contraposición con lo que ocurre en el segundo caso, que es donde funge como un acrecentador, resultando en que finalmente se acorte. \n"
   ]
  },
  {
   "cell_type": "markdown",
   "id": "f4d9bcb2",
   "metadata": {},
   "source": [
    "### 6.5 ¿El tamaño del efecto de la política fiscal en el 6 es el mismo que en el apartado 5?"
   ]
  },
  {
   "cell_type": "markdown",
   "id": "40a48ecd",
   "metadata": {},
   "source": [
    "Lo único que aumenta es el gasto autónomo en ambos casos, lo que provoca que tenga consecuencias diferentes en los apartados: en el primer caso lo que ocurre es que, como se puede apreciar es que las líneas suben, lo que significa que a mayor gasto ocurre una mayor producción. En el segundo caso las líneas bajan, lo que se traduce en una política expansiva anticíclica debido a que hay un menor gasto y por tanto una menor producción según la lógica keynesiana. Cambia esta en tanto cambia la función de la demanda, ya que esta política expansiva fiscal lo que hace es que promueve la producción y en consecuencia el empleo. "
   ]
  },
  {
   "cell_type": "markdown",
   "id": "af409628",
   "metadata": {},
   "source": [
    "### 6.6 Reducción de exportaciones en una crisis mundial"
   ]
  },
  {
   "cell_type": "markdown",
   "id": "aadaca6a",
   "metadata": {},
   "source": [
    "### Deducción intuitiva"
   ]
  },
  {
   "cell_type": "markdown",
   "id": "826eeed2",
   "metadata": {},
   "source": [
    "$$ Xo↓ → X → DA↓ → DA < Y → Y↓$$"
   ]
  },
  {
   "cell_type": "markdown",
   "id": "2c8d94cf",
   "metadata": {},
   "source": [
    "Como se trata de una ecuación, es que ambas partes de la deducción se perjudican cuando una de ellas disminuye, explicado con estas flechas es que vemos que la cantidad fija de las exportaciones se reduce, lo que a su vez ocasiona que las exportaciones totales del país se reduzcan. Ello lleva a que la semanda agregada disminuya y así se vuelve menor al nivel de producción que el país tiene. Lo que produce que finalmente, la cadena de eventos termine por afectar negativamente también al nivel de producción (Y). "
   ]
  },
  {
   "cell_type": "markdown",
   "id": "2dd42567",
   "metadata": {},
   "source": [
    "### Matemático: $$ΔXo < 0 → ¿ΔY?$$"
   ]
  },
  {
   "cell_type": "code",
   "execution_count": 22,
   "id": "81d90c99",
   "metadata": {},
   "outputs": [
    {
     "data": {
      "text/latex": [
       "$\\displaystyle \\frac{1}{g - \\left(1 - t\\right) \\left(b - m\\right) + 1}$"
      ],
      "text/plain": [
       "1/(g - (1 - t)*(b - m) + 1)"
      ]
     },
     "execution_count": 22,
     "metadata": {},
     "output_type": "execute_result"
    }
   ],
   "source": [
    "# Diferenciales\n",
    "\n",
    "    # nombrar variables como símbolos\n",
    "Co, Io, Go, Xo, h, r, b, m, t, g = symbols('Co Io Go Xo h r b m t g')\n",
    "\n",
    "    # determinar ecuación\n",
    "f = (Co + Io + Go + Xo - h*r)/(1 - (b - m)*(1 - t) + g)\n",
    "\n",
    "    # función diferencial\n",
    "df_Xo = diff(f, Xo) # diff(función, variable_analizar\n",
    "df_Xo #∆Y/∆Go\n",
    "\n"
   ]
  },
  {
   "cell_type": "markdown",
   "id": "82de57a4",
   "metadata": {},
   "source": [
    "Considerdo el diferencial obtenido:\n",
    "\n",
    "$$ \\frac{∆Y}{∆X_0} = \\frac{1}{1 - (b - m)(1 - t) + g} $$\n",
    "\n",
    "Sabiendo que al multiplicador keynesiano $(k > 0)$ se le adiciona el parámetro $g$, el denominador continuará siendo positivo (aunque más grande y con una pendiente de curva reducida).\n",
    "\n",
    "Y considerando que $∆X_0 < 0 $, la multiplicación de un número positivo con un negativo dará un negativo:\n",
    "\n",
    "$$ \\frac{∆Y}{(-)} = (+) $$\n",
    "$$ ∆Y = (-)(+) $$\n",
    "$$ ∆Y < 0 $$"
   ]
  },
  {
   "cell_type": "markdown",
   "id": "f3fdfb14",
   "metadata": {},
   "source": [
    "### Gráfico:"
   ]
  },
  {
   "cell_type": "code",
   "execution_count": 23,
   "id": "c6dd7c9d",
   "metadata": {},
   "outputs": [],
   "source": [
    "# Parámetros\n",
    "\n",
    "Y_size = 100 \n",
    "\n",
    "Co = 35\n",
    "Io = 40\n",
    "Go = 70\n",
    "g = 0.2 #solo valores entre 0-0.4\n",
    "Xo = 15\n",
    "h = 0.7\n",
    "b = 0.8 # b > m\n",
    "m = 0.2\n",
    "t = 0.3\n",
    "r = 0.9\n",
    "\n",
    "Y = np.arange(Y_size)\n",
    "\n",
    "# Ecuación de la curva del ingreso de equilibrio\n",
    "\n",
    "def DA_C(Co, Io, Go, Xo, h, r, b, m, t, g, Y):\n",
    "    DA_C = (Co  + Io + Go + Xo - h*r) + [(b-m)*(1-t)-g]*Y\n",
    "    return DA_C\n",
    "\n",
    "DA_Cont = DA_C(Co, Io, Go, Xo, h, r, b, m, t, g, Y)\n",
    "\n",
    "\n",
    "# Nueva curva\n",
    "\n",
    "Xo = 1\n",
    "\n",
    "def DA_C(Co, Io, Go, Xo, h, r, b, m, t, g, Y):\n",
    "    DA_C = (Co  + Io + Go + Xo - h*r) + [(b-m)*(1-t)-g]*Y\n",
    "    return DA_C\n",
    "\n",
    "DA_C_X = DA_C(Co, Io, Go, Xo, h, r, b, m, t, g, Y)"
   ]
  },
  {
   "cell_type": "code",
   "execution_count": 24,
   "id": "babcb0a0",
   "metadata": {},
   "outputs": [
    {
     "data": {
      "text/plain": [
       "(159.39692982456143, 63.75877192982457)"
      ]
     },
     "execution_count": 24,
     "metadata": {},
     "output_type": "execute_result"
    }
   ],
   "source": [
    "# líneas punteadas autómaticas\n",
    "\n",
    "    # definir la función line_intersection\n",
    "def line_intersection(line1, line2):\n",
    "    xdiff = (line1[0][0] - line1[1][0], line2[0][0] - line2[1][0])\n",
    "    ydiff = (line1[0][1] - line1[1][1], line2[0][1] - line2[1][1])\n",
    "\n",
    "    def det(a, b):\n",
    "        return a[0] * b[1] - a[1] * b[0]\n",
    "\n",
    "    div = det(xdiff, ydiff)\n",
    "    if div == 0:\n",
    "       raise Exception('lines do not intersect')\n",
    "\n",
    "    d = (det(*line1), det(*line2))\n",
    "    x = det(d, xdiff) / div\n",
    "    y = det(d, ydiff) / div\n",
    "    return x, y\n",
    "\n",
    "    # coordenadas de las curvas (x,y)\n",
    "A = [DA_Cont[0], Y[0]] # DA, coordenada inicio\n",
    "B = [DA_Cont[-1], Y[-1]] # DA, coordenada fin\n",
    "\n",
    "C = [L_45[0], Y[0]] # L_45, coordenada inicio\n",
    "D = [L_45[-1], Y[-1]] # L_45, coordenada fin\n",
    "\n",
    "    # creación de intersección\n",
    "\n",
    "intersec = line_intersection((A, B), (C, D))\n",
    "intersec # (y,x)\n",
    "\n",
    "    # coordenadas de las curvas (x,y)\n",
    "A = [DA_C_X[0], Y[0]] # DA, coordenada inicio\n",
    "B = [DA_C_X[-1], Y[-1]] # DA, coordenada fin\n",
    "\n",
    "C = [L_45[0], Y[0]] # L_45, coordenada inicio\n",
    "D = [L_45[-1], Y[-1]] # L_45, coordenada fin\n",
    "\n",
    "    # creación de intersección\n",
    "intersec_X = line_intersection((A, B), (C, D))\n",
    "intersec_X # (y,x)"
   ]
  },
  {
   "cell_type": "code",
   "execution_count": 25,
   "id": "5b79aeda",
   "metadata": {},
   "outputs": [
    {
     "data": {
      "image/png": "[encoded data removed]",
      "text/plain": [
       "<Figure size 720x576 with 1 Axes>"
      ]
     },
     "metadata": {
      "filenames": {
       "image/png": "C:\\Users\\Jhon\\Documents\\work\\paper\\EP_Macroeco\\_build\\jupyter_execute\\reportes\\20201596_r1d_84_0.png"
      },
      "needs_background": "light"
     },
     "output_type": "display_data"
    }
   ],
   "source": [
    "# Gráfico\n",
    "y_max = np.max(DA_Cont)\n",
    "fig, ax = plt.subplots(figsize=(10, 8))\n",
    "\n",
    "\n",
    "# Curvas a graficar\n",
    "ax.plot(DA_Cont, label = \"DA\", color = \"#AEA0DB\") #curva ORIGINAL\n",
    "ax.plot(DA_C_X, label = \"DA_X\", color = \"#EE989A\", linestyle = 'dashed') #NUEVA curva\n",
    "ax.plot(L_45, color = \"#404040\") #línea de 45º\n",
    "\n",
    "# Lineas punteadas\n",
    "plt.axhline(y=intersec[0], xmin= 0, xmax= 0.68, linestyle = \":\", color = \"grey\")\n",
    "plt.axvline(x=intersec[1], ymin= 0, ymax= 0.68, linestyle = \":\", color = \"grey\")\n",
    "\n",
    "plt.axhline(y=intersec_X[0], xmin= 0, xmax= 0.63, linestyle = \":\", color = \"grey\")\n",
    "plt.axvline(x=intersec_X[1], ymin= 0, ymax= 0.63, linestyle = \":\", color = \"grey\")\n",
    "\n",
    "\n",
    "# Texto agregado\n",
    "plt.text(0, 180, '$DA^e$', fontsize = 11.5, color = 'black')\n",
    "plt.text(0, 135, '$DA_X$', fontsize = 11.5, color = 'black')\n",
    "plt.text(6, 4, '$45°$', fontsize = 11.5, color = 'black')\n",
    "plt.text(2.5, -3, '$◝$', fontsize = 30, color = '#404040')\n",
    "plt.text(71, 0, '$Y^e$', fontsize = 12, color = 'black')\n",
    "plt.text(60, 0, '$Y_X$', fontsize = 12, color = 'black')\n",
    "plt.text(65.5, 45, '$←$', fontsize = 15, color = 'grey')\n",
    "plt.text(20, 165, '$↓$', fontsize = 15, color = 'grey')\n",
    "\n",
    "# Título y leyenda\n",
    "ax.set(title = \"Reducción de las Exportaciones\", xlabel = r'Y', ylabel = r'DA')\n",
    "ax.legend()\n",
    "\n",
    "plt.show()"
   ]
  }
 ],
 "metadata": {
  "kernelspec": {
   "display_name": "Python 3 (ipykernel)",
   "language": "python",
   "name": "python3"
  },
  "language_info": {
   "codemirror_mode": {
    "name": "ipython",
    "version": 3
   },
   "file_extension": ".py",
   "mimetype": "text/x-python",
   "name": "python",
   "nbconvert_exporter": "python",
   "pygments_lexer": "ipython3",
   "version": "3.8.0"
  }
 },
 "nbformat": 4,
 "nbformat_minor": 5
}